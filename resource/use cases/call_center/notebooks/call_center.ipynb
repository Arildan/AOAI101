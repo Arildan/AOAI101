{
 "cells": [
  {
   "attachments": {},
   "cell_type": "markdown",
   "metadata": {},
   "source": [
    "# Call center case - Post-call transcription and analysis with Azure OpenAI Service\n",
    "\n",
    "In this exercise, we will perform sentiment analysis and summerization using call center transcriptions. We will transribe the customer recording to text, then use OpenAI to detect sentiment. We also use OpenAI to summerize long text into a few sentences for further analysis."
   ]
  },
  {
   "cell_type": "code",
   "execution_count": 1,
   "metadata": {},
   "outputs": [
    {
     "data": {
      "text/plain": [
       "True"
      ]
     },
     "execution_count": 1,
     "metadata": {},
     "output_type": "execute_result"
    }
   ],
   "source": [
    "from dotenv import load_dotenv\n",
    "load_dotenv('environment_variables.env')"
   ]
  },
  {
   "cell_type": "code",
   "execution_count": 7,
   "metadata": {},
   "outputs": [],
   "source": [
    "# from azure.ai.textanalytics import TextAnalyticsClient\n",
    "# from azure.core.credentials import AzureKeyCredential\n",
    "import azure.cognitiveservices.speech as speechsdk\n",
    "\n",
    "import json, os\n",
    "import string\n",
    "import time\n",
    "import wave\n",
    "\n",
    "import openai\n",
    "from openai import AzureOpenAI\n",
    "import re\n",
    "import requests\n",
    "import sys\n",
    "from num2words import num2words\n",
    "import os\n",
    "import pandas as pd\n",
    "import numpy as np\n",
    "# from openai.embeddings_utils import get_embedding, cosine_similarity\n",
    "# from transformers import GPT2TokenizerFast\n",
    "\n",
    "\n",
    "client = AzureOpenAI(\n",
    "  azure_endpoint = os.environ.get(\"AZURE_OPENAI_ENDPOINT_TEXT\"), \n",
    "  api_key=os.environ.get(\"AZURE_OPENAI_KEY_TEXT\"),  \n",
    "  api_version=os.environ.get(\"AZURE_OPENAI_API_VERSION\")\n",
    ")\n",
    "\n",
    "SPEECH_KEY = os.environ.get(\"SPEECH_API_KEY\")\n",
    "\n",
    "COMPLETIONS_MODEL = os.environ.get(\"AZURE_OPENAI_CHAT_DEPLOYMENT\")\n",
    "\n",
    "def get_embedding(text, model=\"text-embedding-ada-002\"):\n",
    "   text = text.replace(\"\\n\", \" \")\n",
    "   return client.embeddings.create(input = [text], model=model).data[0].embedding\n",
    "\n",
    "def cosine_similarity(query_embedding, embeddings, distance_metric='cosine'):\n",
    "    if distance_metric == 'cosine':\n",
    "        distances = np.dot(embeddings, query_embedding) / (np.linalg.norm(embeddings) * np.linalg.norm(query_embedding))\n",
    "        distances = 1 - distances  \n",
    "    else:\n",
    "        raise ValueError(\"Metrik (fungsi jarak) tidak didukung. Gunakan 'cosine'.\")\n",
    "\n",
    "    return distances\n",
    "\n",
    "def recognize_speech_from_file(filename):\n",
    "    # Set up the subscription info for the Speech Service:\n",
    "    # Replace with your own subscription key and service region (e.g., \"westus\").\n",
    "    speech_key = SPEECH_KEY\n",
    "    service_region = \"australiaeast\"\n",
    "\n",
    "    speech_config = speechsdk.SpeechConfig(subscription=speech_key, region=service_region)\n",
    "    audio_config = speechsdk.audio.AudioConfig(filename=filename)\n",
    "    # Creates a speech recognizer using a file as audio input, also specify the speech language\n",
    "    speech_recognizer = speechsdk.SpeechRecognizer(speech_config=speech_config,  audio_config=audio_config)\n",
    "\n",
    "    global done \n",
    "    done = False\n",
    "    global recognized_text_list \n",
    "    recognized_text_list=[]\n",
    "    def stop_cb(evt: speechsdk.SessionEventArgs):\n",
    "        \"\"\"callback that signals to stop continuous recognition upon receiving an event `evt`\"\"\"\n",
    "        print('CLOSING on {}'.format(evt))\n",
    "        global done\n",
    "        done = True\n",
    "\n",
    "    def recognize_cb(evt: speechsdk.SpeechRecognitionEventArgs):\n",
    "        \"\"\"callback for recognizing the recognized text\"\"\"\n",
    "        global recognized_text_list\n",
    "        recognized_text_list.append(evt.result.text)\n",
    "        # print('RECOGNIZED: {}'.format(evt.result.text))\n",
    "\n",
    "    # Connect callbacks to the events fired by the speech recognizer\n",
    "    # speech_recognizer.recognizing.connect(lambda evt: print('RECOGNIZING: {}'.format(evt)))\n",
    "    speech_recognizer.recognized.connect(recognize_cb)\n",
    "    speech_recognizer.session_started.connect(lambda evt: print('STT SESSION STARTED: {}'.format(evt)))\n",
    "    speech_recognizer.session_stopped.connect(lambda evt: print('STT SESSION STOPPED {}'.format(evt)))\n",
    "    # speech_recognizer.canceled.connect(lambda evt: print('CANCELED {}'.format(evt)))\n",
    "    # stop continuous recognition on either session stopped or canceled events\n",
    "    speech_recognizer.session_stopped.connect(stop_cb)\n",
    "    # speech_recognizer.canceled.connect(stop_cb)\n",
    "\n",
    "    # Start continuous speech recognition\n",
    "    speech_recognizer.start_continuous_recognition()\n",
    "    while not done:\n",
    "        time.sleep(.5)\n",
    "\n",
    "    speech_recognizer.stop_continuous_recognition()\n",
    "\n",
    "    return recognized_text_list"
   ]
  },
  {
   "attachments": {},
   "cell_type": "markdown",
   "metadata": {},
   "source": [
    "# Sentiment Analysis\n",
    "### Transcribe Customer Call to Text"
   ]
  },
  {
   "cell_type": "code",
   "execution_count": 5,
   "metadata": {},
   "outputs": [
    {
     "name": "stdout",
     "output_type": "stream",
     "text": [
      "STT SESSION STARTED: SessionEventArgs(session_id=b16eb40f8dbf4bca8ad3e7896641435d)\n",
      "STT SESSION STOPPED SessionEventArgs(session_id=b16eb40f8dbf4bca8ad3e7896641435d)\n",
      "CLOSING on SessionEventArgs(session_id=b16eb40f8dbf4bca8ad3e7896641435d)\n",
      "['I had purchased another thermostat from a big box store and the Rep there assured me that it would turn off when it got too cold.', 'Welcome to find out. It did not and my heater in the garage was running a lot of the time.', 'This one was great and was easily wired.', 'It does turn off when you turn it all the way to the left.', \"It's annoying they don't have any in Celsius, but whatever.\", 'It runs well and actually turns off my garage heater.', 'Would totally purchase again.', 'Installed with five kilowatts heater in garage.', 'Thermostat failed an on position overnight and came close to fire with overheated connections. See photos.', 'Installation was by certified electrician.']\n"
     ]
    }
   ],
   "source": [
    "text = recognize_speech_from_file(\"../data/good_review.wav\")\n",
    "print(text)"
   ]
  },
  {
   "attachments": {},
   "cell_type": "markdown",
   "metadata": {},
   "source": [
    "### Create Promot for sentiment analysis\n",
    "Use natural language to instruct OpenAI to detect customer's sentiment"
   ]
  },
  {
   "cell_type": "code",
   "execution_count": 8,
   "metadata": {},
   "outputs": [
    {
     "name": "stdout",
     "output_type": "stream",
     "text": [
      "Positive\n"
     ]
    }
   ],
   "source": [
    "prompt = f\"Detect whether customer is positive or negative.  Just say positive or negative.\\n\\n{' '.join(text)}\"\n",
    "\n",
    "\n",
    "response = client.chat.completions.create(\n",
    "  model=COMPLETIONS_MODEL,\n",
    "  messages = [{\"role\":\"system\", \"content\":\"You are a helpful assistant.\"},\n",
    "               {\"role\":\"user\",\"content\":prompt},])\n",
    "print(response.choices[0].message.content)\n"
   ]
  },
  {
   "attachments": {},
   "cell_type": "markdown",
   "metadata": {},
   "source": [
    "### Use a negative example"
   ]
  },
  {
   "cell_type": "code",
   "execution_count": 9,
   "metadata": {},
   "outputs": [
    {
     "name": "stdout",
     "output_type": "stream",
     "text": [
      "STT SESSION STARTED: SessionEventArgs(session_id=49a202445c44483ab3ea497aefbb9d3b)\n",
      "STT SESSION STOPPED SessionEventArgs(session_id=49a202445c44483ab3ea497aefbb9d3b)\n",
      "CLOSING on SessionEventArgs(session_id=49a202445c44483ab3ea497aefbb9d3b)\n",
      "['Installed with five kW heater in garage. Thermostat failed in on position overnight and came close to fire with overheated connections. See photos.', 'Installation was by certified electrician.']\n",
      "Negative.\n"
     ]
    }
   ],
   "source": [
    "text = recognize_speech_from_file(\"../data/bad_review.wav\")\n",
    "print(text)\n",
    "prompt = f\"Detect whether customer is positive or negative. Just say positive or negative.\\n\\n{' '.join(text)}\"\n",
    "\n",
    "response = client.chat.completions.create(\n",
    "  model=COMPLETIONS_MODEL,\n",
    "  messages = [{\"role\":\"system\", \"content\":\"You are a helpful assistant.\"},\n",
    "               {\"role\":\"user\",\"content\":prompt},])\n",
    "print(response.choices[0].message.content)"
   ]
  },
  {
   "attachments": {},
   "cell_type": "markdown",
   "metadata": {},
   "source": [
    "# Summarization\n",
    "\n",
    "Use OpenAI to summerize customer message"
   ]
  },
  {
   "cell_type": "code",
   "execution_count": 10,
   "metadata": {},
   "outputs": [
    {
     "name": "stdout",
     "output_type": "stream",
     "text": [
      "STT SESSION STARTED: SessionEventArgs(session_id=0da337678d46460da64546e44fb32e18)\n",
      "STT SESSION STOPPED SessionEventArgs(session_id=0da337678d46460da64546e44fb32e18)\n",
      "CLOSING on SessionEventArgs(session_id=0da337678d46460da64546e44fb32e18)\n",
      "['I had purchased another thermostat from a big box store and the Rep there assured me that it would turn off when it got too cold.', 'Welcome to find out. It did not and my heater in the garage was running a lot of the time.', 'This one was great and was easily wired.', 'It does turn off when you turn it all the way to the left.', \"It's annoying they don't have any in Celsius, but whatever.\", 'It runs well and actually turns off my garage heater.', 'Would totally purchase again.', 'Installed with five kilowatts heater in garage.', 'Thermostat failed an on position overnight and came close to fire with overheated connections. See photos.', 'Installation was by certified electrician.']\n",
      "The person bought a thermostat from a big box store and was assured by the representative that it would turn off when it got too cold. However, the thermostat did not do this and the person's garage heater ran constantly. They found another thermostat that worked well and easily wired it. The only annoyance was that it did not have Celsius units. However, the thermostat eventually failed and stayed in the \"on\" position overnight, causing overheated connections that almost led to a fire. The thermostat was installed by a certified electrician. See attached photos.\n"
     ]
    }
   ],
   "source": [
    "text = recognize_speech_from_file(\"../data/good_review.wav\")\n",
    "print(text)\n",
    "prompt = f\"Summarize the following text.\\n\\n{' '.join(text)}\"\n",
    "\n",
    "response = client.chat.completions.create(\n",
    "  model=COMPLETIONS_MODEL,\n",
    "  messages = [{\"role\":\"system\", \"content\":\"You are a helpful assistant.\"},\n",
    "               {\"role\":\"user\",\"content\":prompt},])\n",
    "print(response.choices[0].message.content)"
   ]
  },
  {
   "cell_type": "code",
   "execution_count": 11,
   "metadata": {},
   "outputs": [
    {
     "name": "stdout",
     "output_type": "stream",
     "text": [
      "The person bought a thermostat from a big box store and was assured by the representative that it would turn off when it got too cold. However, the thermostat did not do this and the person's garage heater ran constantly. They found another thermostat that worked well and easily wired it. The only annoyance was that it did not have Celsius units. However, the thermostat eventually failed and stayed in the \"on\" position overnight, causing overheated connections that almost led to a fire. The thermostat was installed by a certified electrician. See attached photos.\n"
     ]
    }
   ],
   "source": [
    "print(response.choices[0].message.content)"
   ]
  },
  {
   "cell_type": "code",
   "execution_count": null,
   "metadata": {},
   "outputs": [],
   "source": []
  }
 ],
 "metadata": {
  "kernelspec": {
   "display_name": "azureml_py310_sdkv2",
   "language": "python",
   "name": "python3"
  },
  "language_info": {
   "codemirror_mode": {
    "name": "ipython",
    "version": 3
   },
   "file_extension": ".py",
   "mimetype": "text/x-python",
   "name": "python",
   "nbconvert_exporter": "python",
   "pygments_lexer": "ipython3",
   "version": "3.12.0"
  },
  "orig_nbformat": 4,
  "vscode": {
   "interpreter": {
    "hash": "2139c70ac98f3202d028164a545621647e07f47fd6f5d8ac55cf952bf7c15ed1"
   }
  }
 },
 "nbformat": 4,
 "nbformat_minor": 2
}
