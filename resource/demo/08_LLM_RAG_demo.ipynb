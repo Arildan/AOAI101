{
 "cells": [
  {
   "attachments": {},
   "cell_type": "markdown",
   "metadata": {},
   "source": [
    "# Demo: OpenAI Large Language Model - A RAG Sample\n",
    "\n",
    "In this demo, we show how to use GPT3 model to analyze natural query, use knowledge base to search for more information and answer questions."
   ]
  },
  {
   "cell_type": "code",
   "execution_count": 1,
   "metadata": {},
   "outputs": [],
   "source": [
    "import re\n",
    "import requests\n",
    "import sys\n",
    "import os\n",
    "from openai import AzureOpenAI\n",
    "import tiktoken\n",
    "from dotenv import load_dotenv\n",
    "load_dotenv(\"../config/environment_variables.env\")\n",
    "\n",
    "client = AzureOpenAI(\n",
    "  azure_endpoint = os.environ.get(\"AZURE_OPENAI_ENDPOINT_TEXT\"), \n",
    "  api_key=os.environ.get(\"AZURE_OPENAI_KEY_TEXT\"),  \n",
    "  api_version=os.environ.get(\"AZURE_OPENAI_API_VERSION\")\n",
    ")\n",
    "\n",
    "CHAT_COMPLETIONS_MODEL = os.environ.get(\"AZURE_OPENAI_CHAT_DEPLOYMENT\")"
   ]
  },
  {
   "attachments": {},
   "cell_type": "markdown",
   "metadata": {},
   "source": [
    "### Start with a natural question"
   ]
  },
  {
   "cell_type": "code",
   "execution_count": 2,
   "metadata": {},
   "outputs": [],
   "source": [
    "input = \"Menurutmu siapakah orang yang akan memenangkan Pemilihan Presiden Indonesia 2024? Sertakan pula alasannya\""
   ]
  },
  {
   "attachments": {},
   "cell_type": "markdown",
   "metadata": {},
   "source": [
    "### Step 1: GPT3: What do I need to to answer this question?"
   ]
  },
  {
   "cell_type": "code",
   "execution_count": 3,
   "metadata": {},
   "outputs": [],
   "source": [
    "system_prompt=f'''Answer the following questions as best you can. You have access to the following tools:\n",
    "\n",
    "Web Search: Use the web to find information\n",
    "\n",
    "You need to follow STRICTLY below format:\n",
    "\n",
    "Question: the input question you must answer\n",
    "Thought: you should always think about what to do\n",
    "Action: the action to take, should be one of [Research]\n",
    "Action Input: the input to the action\n",
    "\n",
    "Begin!\n",
    "'''\n",
    "user_prompt = f'''\n",
    "Question: {input}\n",
    "Thought:'''"
   ]
  },
  {
   "cell_type": "code",
   "execution_count": 4,
   "metadata": {},
   "outputs": [
    {
     "name": "stdout",
     "output_type": "stream",
     "text": [
      "Saya adalah AI yang didesain untuk memberikan informasi, namun saya tidak memiliki kemampuan untuk meramalkan masa depan atau memiliki opini pribadi. Oleh karena itu, saya tidak dapat memberikan prediksi tentang siapa yang akan memenangkan Pemilihan Presiden Indonesia 2024. Namun, saya dapat memberikan informasi umum tentang proses pemilihan presiden di Indonesia jika Anda tertarik. Apakah Anda ingin saya melakukannya?\n",
      "Action: Research\n",
      "Action Input: Pemilihan Presiden Indonesia 2024\n"
     ]
    }
   ],
   "source": [
    "response = client.chat.completions.create(\n",
    "    model=CHAT_COMPLETIONS_MODEL,\n",
    "    messages = [{\"role\":\"system\", \"content\":system_prompt},\n",
    "                {\"role\":\"user\",\"content\": user_prompt,}],\n",
    "        max_tokens=400,)\n",
    "\n",
    "print(response.choices[0].message.content)"
   ]
  },
  {
   "attachments": {},
   "cell_type": "markdown",
   "metadata": {},
   "source": [
    "### Step 2: Search web for more details "
   ]
  },
  {
   "cell_type": "code",
   "execution_count": 5,
   "metadata": {},
   "outputs": [],
   "source": [
    "# Use Azure BING Search API to get the results\n",
    "import requests\n",
    "import json\n",
    "url = \"https://api.bing.microsoft.com/v7.0/search\"\n",
    "headers = {\"Ocp-Apim-Subscription-Key\": os.environ.get('BING_SUBSCRIPTION_KEY')}\n",
    "params = {\"q\": \"2024 presidential election candidates and current political analysis in Indonesia\"}\n",
    "response = requests.get(url, headers=headers, params=params)"
   ]
  },
  {
   "cell_type": "code",
   "execution_count": 6,
   "metadata": {},
   "outputs": [],
   "source": [
    "context = ''\n",
    "for result in response.json()['webPages']['value']:\n",
    "    context += result['snippet'] + '\\n'"
   ]
  },
  {
   "attachments": {},
   "cell_type": "markdown",
   "metadata": {},
   "source": [
    "### Collected information for further processing"
   ]
  },
  {
   "cell_type": "code",
   "execution_count": 7,
   "metadata": {},
   "outputs": [
    {
     "name": "stdout",
     "output_type": "stream",
     "text": [
      "Prabowo Subianto will be the next president of Indonesia Last updated on February 14th 2024 Editor's note (February 14th 2024): This page has been updated with the results of the election.\n",
      "Indonesia 2024 Presidential Candidates Analysis: Anies Baswedan — Muhaimin Iskandar | by Kajian Riset Strategis PPI London | Jan, 2024 | Medium. Kajian Riset Strategis PPI London. ·....\n",
      "Indonesia: The 2024 Presidential Election Race Has Begun. Analysis. In Jakarta, Political Kingmaking Starts Now. Indonesia’s presidential election is less than a year away, and...\n",
      "Three pairs of president and vice president candidates running for the Indonesia’s 2024 election. Galih Pradipta /Antara Foto November 24, 2023\n",
      "Indonesia’s presidential candidates, from left, Ganjar Pranowo, Prabowo Subianto and Anies Baswedan after the first presidential candidates’ debate in Jakarta on December 12, 2023. Photo:...\n",
      "Ary Hermawan, The University of Melbourne. Soeharto’s oligarchy, not Prabowo, is subverting Indonesia’s democracy. February 13, 2024. 200 million voters, 820,000 polling stations and 10,000...\n",
      "indonesia. These Are the Three Contenders Vying to Be Indonesia’s Next President. 5 minute read. Indonesians will vote to decide President Joko Widodo’s successor on Feb. 14, 2024. Getty...\n",
      "Indonesia’s presidential election may go to run-off, despite what the polls say. Yohanes Sulaiman, Universitas Jendral Achmad Yani. Pollsters are pointing to a Prabowo Subianto-Gibran...\n",
      "REUTERS/Willy Kurniawan Purchase Licensing Rights. Feb 7 (Reuters) - Three candidates are running in Indonesia's presidential election on Feb. 14. The following is a summary of policy...\n",
      "Current Defense Minister Prabowo Subianto is a likely contender for Indonesia's 2024 presidential election. His candidacy could pose a number of challenges to democracy in the country....\n",
      "\n"
     ]
    }
   ],
   "source": [
    "print(context)"
   ]
  },
  {
   "cell_type": "code",
   "execution_count": 8,
   "metadata": {},
   "outputs": [],
   "source": [
    "system_prompt=f'''Answer the following questions as best you can. Use the context provided below:\n",
    "{context}\n",
    "\n",
    "Begin!\n",
    "'''\n",
    "user_prompt = f'''\n",
    "Question: {input}\\\n",
    "Answer:'''"
   ]
  },
  {
   "attachments": {},
   "cell_type": "markdown",
   "metadata": {},
   "source": [
    "### Step 3: GPT3: What do I need to do to answer this question? (Again)"
   ]
  },
  {
   "cell_type": "code",
   "execution_count": 9,
   "metadata": {},
   "outputs": [
    {
     "name": "stdout",
     "output_type": "stream",
     "text": [
      "Menurut informasi yang diberikan, Prabowo Subianto akan menjadi presiden Indonesia berikutnya dalam Pemilihan Presiden 2024. Hasil ini diumumkan pada tanggal 14 Februari 2024. Meskipun tidak dijelaskan secara rinci alasannya, Prabowo Subianto disebut sebagai calon kuat dalam pemilihan presiden tersebut.\n"
     ]
    }
   ],
   "source": [
    "response = client.chat.completions.create(\n",
    "    model=CHAT_COMPLETIONS_MODEL,\n",
    "    messages = [{\"role\":\"system\", \"content\":system_prompt},\n",
    "                {\"role\":\"user\",\"content\": user_prompt,}],\n",
    "        max_tokens=400,)\n",
    "\n",
    "print(response.choices[0].message.content)"
   ]
  },
  {
   "attachments": {},
   "cell_type": "markdown",
   "metadata": {},
   "source": [
    "### GPT3: I now have final answer to the question. "
   ]
  },
  {
   "cell_type": "code",
   "execution_count": null,
   "metadata": {},
   "outputs": [],
   "source": []
  }
 ],
 "metadata": {
  "kernelspec": {
   "display_name": "azureml_py310_sdkv2",
   "language": "python",
   "name": "python3"
  },
  "language_info": {
   "codemirror_mode": {
    "name": "ipython",
    "version": 3
   },
   "file_extension": ".py",
   "mimetype": "text/x-python",
   "name": "python",
   "nbconvert_exporter": "python",
   "pygments_lexer": "ipython3",
   "version": "3.12.0"
  },
  "orig_nbformat": 4
 },
 "nbformat": 4,
 "nbformat_minor": 2
}
