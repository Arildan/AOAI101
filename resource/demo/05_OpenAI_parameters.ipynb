{
 "cells": [
  {
   "cell_type": "code",
   "execution_count": 1,
   "metadata": {},
   "outputs": [],
   "source": [
    "import re\n",
    "import requests\n",
    "import sys\n",
    "import os\n",
    "from openai import AzureOpenAI\n",
    "import tiktoken\n",
    "from dotenv import load_dotenv\n",
    "load_dotenv(\"../config/environment_variables.env\")\n",
    "\n",
    "client = AzureOpenAI(\n",
    "  azure_endpoint = os.environ.get(\"AZURE_OPENAI_ENDPOINT_TEXT\"), \n",
    "  api_key=os.environ.get(\"AZURE_OPENAI_KEY_TEXT\"),  \n",
    "  api_version=os.environ.get(\"AZURE_OPENAI_API_VERSION\")\n",
    ")\n",
    "\n",
    "CHAT_COMPLETIONS_MODEL = os.environ.get(\"AZURE_OPENAI_CHAT_DEPLOYMENT\")\n",
    "SEED=123"
   ]
  },
  {
   "attachments": {},
   "cell_type": "markdown",
   "metadata": {},
   "source": [
    "# temperature\n",
    "\n",
    "Defaults to 1\n",
    "\n",
    "What sampling temperature to use. Higher values means the model will take more risks. Try 0.9 for more creative applications, and 0 (argmax sampling) for ones with a well-defined answer.\n",
    "\n",
    "We generally recommend altering this or top_p but not both."
   ]
  },
  {
   "cell_type": "code",
   "execution_count": 2,
   "metadata": {},
   "outputs": [],
   "source": [
    "def call_openai(num_times, prompt, temperature=0.75, use_seed=False):\n",
    "    for i in range(num_times):\n",
    "        if use_seed:\n",
    "            response = client.chat.completions.create(\n",
    "                model=CHAT_COMPLETIONS_MODEL,\n",
    "                messages = [{\"role\":\"system\", \"content\":\"You are a helpful assistant.\"},\n",
    "                            {\"role\":\"user\",\"content\": prompt}],\n",
    "                    max_tokens=60,\n",
    "                    seed=SEED,\n",
    "                    temperature = temperature\n",
    "            )\n",
    "        else:\n",
    "            response = client.chat.completions.create(\n",
    "                model=CHAT_COMPLETIONS_MODEL,\n",
    "                messages = [{\"role\":\"system\", \"content\":\"You are a helpful assistant.\"},\n",
    "                            {\"role\":\"user\",\"content\": prompt}],\n",
    "                    max_tokens=60,\n",
    "                    temperature = temperature\n",
    "            )\n",
    "        print(response.choices[0].message.content)"
   ]
  },
  {
   "cell_type": "code",
   "execution_count": 3,
   "metadata": {},
   "outputs": [
    {
     "name": "stdout",
     "output_type": "stream",
     "text": [
      "pertanyaan yang sulit untuk dijawab karena ada banyak klub sepakbola yang dianggap sebagai yang terbaik, tergantung pada kriteria yang digunakan. Namun, beberapa klub yang sering disebut sebagai yang terbaik di dunia adalah Real\n",
      "Barcelona.\n",
      "hal yang subjektif dan tergantung pada preferensi masing-masing individu. Namun, beberapa klub sepakbola terkenal yang sering dianggap sebagai klub terbaik di dunia antara lain FC Barcelona dari Spanyol, Real Madrid dari S\n",
      "hal yang subjektif dan tergantung pada preferensi individu. Namun, beberapa klub sepakbola yang sering dianggap sebagai yang terbaik adalah Real Madrid, Barcelona, Manchester United, Bayern Munich, dan Juventus. Klub-klub ini memiliki sejar\n",
      "Barcelona FC atau FC Barcelona adalah klub sepakbola yang dianggap sebagai salah satu klub terbaik di dunia. Klub ini berbasis di Barcelona, Spanyol dan telah memenangkan banyak gelar dan prestasi di level domestik maupun internasional.\n",
      "sangat subjektif dan tergantung pada preferensi masing-masing individu. Namun, beberapa klub sepakbola yang sering dianggap sebagai yang terbaik di dunia adalah Real Madrid, Barcelona, Bayern Munich, Manchester United, dan Juventus.\n",
      "sangat subjektif dan tergantung pada preferensi individu. Beberapa klub sepakbola yang sering dianggap sebagai yang terbaik di dunia adalah FC Barcelona, Real Madrid, Manchester United, Bayern Munich, dan Juventus. Namun, terdapat\n",
      "hal yang subjektif dan tergantung pada sudut pandang masing-masing individu. Namun, beberapa klub sepakbola yang sering dianggap sebagai klub terbaik di dunia adalah Real Madrid, Barcelona, Manchester United, Bayern Munich, dan Juventus.\n",
      "sangat subjektif dan tergantung pada sudut pandang masing-masing individu. Namun, beberapa klub sepakbola yang sering dianggap sebagai yang terbaik di dunia adalah Real Madrid, Barcelona, Manchester United, Bayern Munich, dan Juventus\n",
      "sangat subjektif dan bisa berbeda-beda tergantung pada preferensi individu. Namun, beberapa klub sepakbola yang sering dianggap sebagai klub terbaik di dunia adalah Real Madrid, Barcelona, Manchester United, Bayern Munich, dan Juventus\n"
     ]
    }
   ],
   "source": [
    "# Without seed and temperature, the response is different each time\n",
    "call_openai(10, 'Klub sepakbola terbaik adalah ')"
   ]
  },
  {
   "cell_type": "code",
   "execution_count": 4,
   "metadata": {},
   "outputs": [
    {
     "name": "stdout",
     "output_type": "stream",
     "text": [
      "sangat subjektif dan tergantung pada preferensi masing-masing individu. Namun, beberapa klub sepakbola yang sering dianggap sebagai yang terbaik di dunia adalah Real Madrid, Barcelona, Bayern Munich, Manchester United, dan Juventus. Kl\n",
      "sangat subjektif dan tergantung pada preferensi masing-masing individu. Namun, beberapa klub sepakbola yang sering dianggap sebagai yang terbaik di dunia adalah Real Madrid, Barcelona, Bayern Munich, Manchester United, dan Juventus. Kl\n",
      "sangat subjektif dan tergantung pada preferensi masing-masing individu. Namun, beberapa klub sepakbola yang sering dianggap sebagai yang terbaik di dunia adalah Real Madrid, Barcelona, Bayern Munich, Manchester United, dan Juventus. Kl\n",
      "sangat subjektif dan tergantung pada preferensi masing-masing individu. Namun, beberapa klub sepakbola yang sering dianggap sebagai yang terbaik di dunia adalah Real Madrid, Barcelona, Bayern Munich, Manchester United, dan Juventus. Kl\n",
      "sangat subjektif dan tergantung pada preferensi masing-masing individu. Namun, beberapa klub sepakbola yang sering dianggap sebagai yang terbaik di dunia adalah Real Madrid, Barcelona, Bayern Munich, Manchester United, dan Juventus. Kl\n",
      "sangat subjektif dan tergantung pada preferensi masing-masing individu. Namun, beberapa klub sepakbola yang sering dianggap sebagai yang terbaik di dunia adalah Real Madrid, Barcelona, Bayern Munich, Manchester United, dan Juventus. Kl\n",
      "sangat subjektif dan tergantung pada preferensi masing-masing individu. Namun, beberapa klub sepakbola yang sering dianggap sebagai yang terbaik di dunia adalah Real Madrid, Barcelona, Bayern Munich, Manchester United, dan Juventus. Kl\n",
      "sangat subjektif dan tergantung pada preferensi masing-masing individu. Namun, beberapa klub sepakbola yang sering dianggap sebagai yang terbaik di dunia adalah Real Madrid, Barcelona, Bayern Munich, Manchester United, dan Juventus. Kl\n",
      "sangat subjektif dan tergantung pada preferensi masing-masing individu. Namun, beberapa klub sepakbola yang sering dianggap sebagai yang terbaik di dunia adalah Real Madrid, Barcelona, Bayern Munich, Manchester United, dan Juventus. Kl\n",
      "sangat subjektif dan tergantung pada preferensi masing-masing individu. Namun, beberapa klub sepakbola yang sering dianggap sebagai yang terbaik di dunia adalah Real Madrid, Barcelona, Bayern Munich, Manchester United, dan Juventus. Kl\n"
     ]
    }
   ],
   "source": [
    "# Now using a seed and 0 temperature, the response is the much more consisitent\n",
    "call_openai(10, 'Klub sepakbola terbaik adalah ', temperature = 0, use_seed=True)"
   ]
  },
  {
   "attachments": {},
   "cell_type": "markdown",
   "metadata": {},
   "source": [
    "# n\n",
    "\n",
    "Defaults to 1\n",
    "\n",
    "How many completions to generate for each prompt.\n",
    "\n",
    "Note: Because this parameter generates many completions, it can quickly consume your token quota. Use carefully and ensure that you have reasonable settings for max_tokens and stop."
   ]
  },
  {
   "cell_type": "code",
   "execution_count": 5,
   "metadata": {},
   "outputs": [
    {
     "name": "stdout",
     "output_type": "stream",
     "text": [
      "Ada banyak klub sepak bola terbaik di dunia, dan pemilihan klub terbaik bisa menjadi subjektif. Namun, beberapa klub yang sering disebut sebagai klub terbaik adalah Barcelona, Real Madrid, Bayern Munich, Juventus, Manchester United, dan Liverpool. Set\n",
      "Barcelona FC adalah klub sepak bola terbaik.\n"
     ]
    }
   ],
   "source": [
    "response = client.chat.completions.create(\n",
    "            model=CHAT_COMPLETIONS_MODEL,\n",
    "            messages = [{\"role\":\"system\", \"content\":\"You are a helpful assistant.\"},\n",
    "                        {\"role\":\"user\",\"content\": \"Klub sepakbola terbaik adalah \"}],\n",
    "                max_tokens=60,\n",
    "                n=2\n",
    "        )\n",
    "\n",
    "for c in response.choices:\n",
    "    print(c.message.content)"
   ]
  }
 ],
 "metadata": {
  "kernelspec": {
   "display_name": "azureml_py310_sdkv2",
   "language": "python",
   "name": "python3"
  },
  "language_info": {
   "codemirror_mode": {
    "name": "ipython",
    "version": 3
   },
   "file_extension": ".py",
   "mimetype": "text/x-python",
   "name": "python",
   "nbconvert_exporter": "python",
   "pygments_lexer": "ipython3",
   "version": "3.12.0"
  },
  "orig_nbformat": 4,
  "vscode": {
   "interpreter": {
    "hash": "2139c70ac98f3202d028164a545621647e07f47fd6f5d8ac55cf952bf7c15ed1"
   }
  }
 },
 "nbformat": 4,
 "nbformat_minor": 2
}
