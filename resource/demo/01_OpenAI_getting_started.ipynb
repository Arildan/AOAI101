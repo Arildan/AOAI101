{
  "cells": [
    {
      "attachments": {},
      "cell_type": "markdown",
      "metadata": {
        "nteract": {
          "transient": {
            "deleting": false
          }
        }
      },
      "source": [
        "# OpenAI Quickstart"
      ]
    },
    {
      "attachments": {},
      "cell_type": "markdown",
      "metadata": {
        "nteract": {
          "transient": {
            "deleting": false
          }
        }
      },
      "source": [
        "# Overview  \n",
        "\"Large language models are functions that map text to text. Given an input string of text, a large language model tries to predict the text that will come next\"(1). This \"quickstart\" notebook will introduce users to high-level LLM concepts, core package requirements for getting started with AML, an soft introduction to prompt design, and severa short examples of different use cases.  \n",
        "\n",
        "For more quickstart examples please refer to the official Azure Open AI Quickstart Documentation https://learn.microsoft.com/en-us/azure/cognitive-services/openai/quickstart?pivots=programming-language-studio"
      ]
    },
    {
      "attachments": {},
      "cell_type": "markdown",
      "metadata": {
        "nteract": {
          "transient": {
            "deleting": false
          }
        }
      },
      "source": [
        "## Table of Contents  \n",
        "\n",
        "[Overview](#overview)  \n",
        "[How to use OpenAI Service](#how-to-use-openai-service)  \n",
        "[1. Creating your OpenAI Service](#1.-creating-your-openai-service)  \n",
        "[2. Installation](#2.-installation)    \n",
        "[3. Credentials](#3.-credentials)  \n",
        "\n",
        "[Use Cases](#use-cases)    \n",
        "[1. Summarize Text](#1.-summarize-text)  \n",
        "[2. Classify Text](#2.-classify-text)  \n",
        "[3. Generate New Product Names](#3.-generate-new-product-names)  \n",
        "[4. Fine Tune a Classifier](#4.fine-tune-a-classifier)  \n",
        "[5. Embeddings!]((#5.-embeddings!))\n",
        "\n",
        "[References](#references)"
      ]
    },
    {
      "attachments": {},
      "cell_type": "markdown",
      "metadata": {
        "nteract": {
          "transient": {
            "deleting": false
          }
        }
      },
      "source": [
        "### Getting started with Azure OpenAI Service\n",
        "\n",
        "New customers will need to [apply for access](https://aka.ms/oai/access) to Azure OpenAI Service.  \n",
        "After approval is complete, customers can log into the Azure portal, create an Azure OpenAI Service resource, and start experimenting with models via the studio  \n",
        "\n",
        "[Great resource for getting started quickly](https://techcommunity.microsoft.com/t5/educator-developer-blog/azure-openai-is-now-generally-available/ba-p/3719177 )\n"
      ]
    },
    {
      "attachments": {},
      "cell_type": "markdown",
      "metadata": {
        "nteract": {
          "transient": {
            "deleting": false
          }
        }
      },
      "source": [
        "### Build your first prompt  \n",
        "This short exercise will provide a basic introduction for submitting prompts to an OpenAI model for a simple task \"summarization\".  \n",
        "\n",
        "![](images/generative-AI-models-reduced.jpg)  \n",
        "\n",
        "\n",
        "**Steps**:  \n",
        "1. Install OpenAI library in your python environment  \n",
        "2. Load standard helper libraries and set your typical OpenAI security credentials for the OpenAI Service that you've created  \n",
        "3. Choose a model for your task  \n",
        "4. Create a simple prompt for the model  \n",
        "5. Submit your request to the model API!"
      ]
    },
    {
      "attachments": {},
      "cell_type": "markdown",
      "metadata": {
        "nteract": {
          "transient": {
            "deleting": false
          }
        }
      },
      "source": [
        "### 1. Import helper libraries and instantiate credentials"
      ]
    },
    {
      "cell_type": "code",
      "execution_count": 27,
      "metadata": {
        "gather": {
          "logged": 1674829434433
        },
        "jupyter": {
          "outputs_hidden": false,
          "source_hidden": false
        },
        "nteract": {
          "transient": {
            "deleting": false
          }
        }
      },
      "outputs": [],
      "source": [
        "import re\n",
        "import requests\n",
        "import sys\n",
        "import os\n",
        "from openai import AzureOpenAI\n",
        "import tiktoken\n",
        "from dotenv import load_dotenv\n",
        "# load_dotenv()\n"
      ]
    },
    {
      "cell_type": "code",
      "execution_count": 28,
      "metadata": {},
      "outputs": [
        {
          "data": {
            "text/plain": [
              "True"
            ]
          },
          "execution_count": 28,
          "metadata": {},
          "output_type": "execute_result"
        }
      ],
      "source": [
        "load_dotenv(\"../config/environment_variables.env\")"
      ]
    },
    {
      "cell_type": "code",
      "execution_count": 6,
      "metadata": {},
      "outputs": [],
      "source": [
        "\n",
        "client = AzureOpenAI(\n",
        "  azure_endpoint = os.environ.get(\"AZURE_OPENAI_ENDPOINT_TEXT\"), \n",
        "  api_key=os.environ.get(\"AZURE_OPENAI_KEY_TEXT\"),  \n",
        "  api_version=os.environ.get(\"AZURE_OPENAI_API_VERSION\")\n",
        ")"
      ]
    },
    {
      "attachments": {},
      "cell_type": "markdown",
      "metadata": {
        "nteract": {
          "transient": {
            "deleting": false
          }
        }
      },
      "source": [
        "### 2. Finding the right model  \n",
        "The GPT-3.5-turbi or GPT-4 models can understand and generate natural language. The service offers four model capabilities, each with different levels of power and speed suitable for different tasks. \n",
        "\n",
        "[Azure OpenAI models](https://learn.microsoft.com/en-us/azure/cognitive-services/openai/concepts/models)  \n",
        "![](images/a-b-c-d-models-reduced.jpg)  \n"
      ]
    },
    {
      "cell_type": "code",
      "execution_count": 29,
      "metadata": {
        "gather": {
          "logged": 1674742720788
        },
        "jupyter": {
          "outputs_hidden": true,
          "source_hidden": false
        },
        "nteract": {
          "transient": {
            "deleting": false
          }
        }
      },
      "outputs": [],
      "source": [
        "# Select the General Purpose curie model for text\n",
        "model = os.environ.get(\"AZURE_OPENAI_CHAT_DEPLOYMENT\")\n",
        "modelgpt4 = os.environ.get(\"AZURE_OPENAI_GPT4_DEPLOYMENT\")\n",
        "modelembeddings = os.environ.get(\"AZURE_OPENAI_EMBEDDING_DEPLOYMENT\")"
      ]
    },
    {
      "attachments": {},
      "cell_type": "markdown",
      "metadata": {
        "nteract": {
          "transient": {
            "deleting": false
          }
        }
      },
      "source": [
        "### 3. Prompt Design  \n",
        "\n",
        "\"The magic of large language models is that by being trained to minimize this prediction error over vast quantities of text, the models end up learning concepts useful for these predictions. For example, they learn concepts like\"(1):\n",
        "\n",
        "* how to spell\n",
        "* how grammar works\n",
        "* how to paraphrase\n",
        "* how to answer questions\n",
        "* how to hold a conversation\n",
        "* how to write in many languages\n",
        "* how to code\n",
        "* etc.\n",
        "\n",
        "#### How to control a large language model  \n",
        "\"Of all the inputs to a large language model, by far the most influential is the text prompt(1).\n",
        "\n",
        "Large language models can be prompted to produce output in a few ways:\n",
        "\n",
        "Instruction: Tell the model what you want\n",
        "Completion: Induce the model to complete the beginning of what you want\n",
        "Demonstration: Show the model what you want, with either:\n",
        "A few examples in the prompt\n",
        "Many hundreds or thousands of examples in a fine-tuning training dataset\"\n",
        "\n",
        "\n",
        "\n",
        "#### There are three basic guidelines to creating prompts:\n",
        "\n",
        "**Show and tell**. Make it clear what you want either through instructions, examples, or a combination of the two. If you want the model to rank a list of items in alphabetical order or to classify a paragraph by sentiment, show it that's what you want.\n",
        "\n",
        "**Provide quality data**. If you're trying to build a classifier or get the model to follow a pattern, make sure that there are enough examples. Be sure to proofread your examples — the model is usually smart enough to see through basic spelling mistakes and give you a response, but it also might assume this is intentional and it can affect the response.\n",
        "\n",
        "**Check your settings.** The temperature and top_p settings control how deterministic the model is in generating a response. If you're asking it for a response where there's only one right answer, then you'd want to set these lower. If you're looking for more diverse responses, then you might want to set them higher. The number one mistake people use with these settings is assuming that they're \"cleverness\" or \"creativity\" controls.\n",
        "\n",
        "\n",
        "Source: https://github.com/Azure/OpenAI/blob/main/How%20to/Completions.md"
      ]
    },
    {
      "attachments": {},
      "cell_type": "markdown",
      "metadata": {
        "nteract": {
          "transient": {
            "deleting": false
          }
        }
      },
      "source": [
        "![](images/prompt_design.jpg)\n",
        "image is creating your first text prompt!"
      ]
    },
    {
      "attachments": {},
      "cell_type": "markdown",
      "metadata": {
        "nteract": {
          "transient": {
            "deleting": false
          }
        }
      },
      "source": [
        "### 4. Submit!"
      ]
    },
    {
      "cell_type": "code",
      "execution_count": 8,
      "metadata": {
        "gather": {
          "logged": 1674494935186
        },
        "jupyter": {
          "outputs_hidden": false,
          "source_hidden": false
        },
        "nteract": {
          "transient": {
            "deleting": false
          }
        }
      },
      "outputs": [],
      "source": [
        "# Create your first prompt\n",
        "text_prompt = \"Saya adalah warga negara indonesia. Beritahu saya secara singkat dalam 3 kalimat. Apa makna dari bendera merah putih.\"\n",
        "\n",
        "response = client.chat.completions.create(\n",
        "  model=model,\n",
        "  messages = [{\"role\":\"system\", \"content\":\"You are a helpful assistant.\"},\n",
        "               {\"role\":\"user\",\"content\":text_prompt},])\n"
      ]
    },
    {
      "cell_type": "code",
      "execution_count": 9,
      "metadata": {},
      "outputs": [
        {
          "name": "stdout",
          "output_type": "stream",
          "text": [
            "Bendera merah putih memiliki makna yang mendalam bagi warga negara Indonesia. Merah melambangkan keberanian dan semangat, sementara putih melambangkan kesucian dan perdamaian, menggambarkan semangat persatuan dan kesatuan bangsa Indonesia.\n"
          ]
        }
      ],
      "source": [
        "print(response.choices[0].message.content)"
      ]
    },
    {
      "attachments": {},
      "cell_type": "markdown",
      "metadata": {
        "nteract": {
          "transient": {
            "deleting": false
          }
        }
      },
      "source": [
        "### Repeat the same call, how do the results compare?"
      ]
    },
    {
      "cell_type": "code",
      "execution_count": 10,
      "metadata": {
        "gather": {
          "logged": 1674494940872
        },
        "jupyter": {
          "outputs_hidden": false,
          "source_hidden": false
        },
        "nteract": {
          "transient": {
            "deleting": false
          }
        }
      },
      "outputs": [
        {
          "name": "stdout",
          "output_type": "stream",
          "text": [
            "Bendera merah putih adalah simbol kebanggaan dan identitas bangsa Indonesia. Warna merah melambangkan keberanian dan semangat, sedangkan putih melambangkan kejujuran dan kemurnian. Bendera ini menggambarkan semangat persatuan dan kesatuan serta nilai-nilai nasionalisme bagi rakyat Indonesia.\n"
          ]
        }
      ],
      "source": [
        "\n",
        "response = client.chat.completions.create(\n",
        "  model=model,\n",
        "  messages = [{\"role\":\"system\", \"content\":\"You are a helpful assistant.\"},\n",
        "               {\"role\":\"user\",\"content\":text_prompt},])\n",
        "\n",
        "print(response.choices[0].message.content)"
      ]
    },
    {
      "attachments": {},
      "cell_type": "markdown",
      "metadata": {
        "nteract": {
          "transient": {
            "deleting": false
          }
        }
      },
      "source": [
        "## Summarize Text  \n",
        "#### Challenge  \n",
        "Summarize text by adding a 'tl;dr:' to the end of a text passage. Notice how the model understands how to perform a number of tasks with no additional instructions. You can experiment with more descriptive prompts than tl;dr to modify the model’s behavior and customize the summarization you receive(3).  \n",
        "\n",
        "Contoh Prompt : \n",
        "\n",
        "Menkeu Terima Kunjungan Satu Kahkonen, World Bank Country Director for Indonesia and Timor-Leste\\nJakarta, 20/3/2024 Kemenkeu – Menteri Keuangan (Menkeu) Sri Mulyani Indrawati menerima kunjungan dari Country Director World Bank untuk Indonesia dan Timor Leste, Satu Kahkonen di Jakarta sore ini, Rabu (20/03). Sejak Februari 2020, Satu menjadi Country Director dan mengawasi program World Bank di kedua negara tersebut.\\nPada pertemuan tersebut, Menteri Sri Mulyani bersama dengan Satu Kahkonen berkesempatan membahas banyak hal, utamanya mengenai dukungan World Bank untuk Indonesia.\\n”Kami berbincang mengenai beragam kerja sama dan program World Bank di Indonesia. Diantaranya, isu-isu terkait transisi energi - mulai mekanisme transisi energi hingga Just Energy Transition Partnership - dan perubahan iklim,” ungkap Menkeu dikutip dari laman instagram resmi @smindrawati.\\nPada kesempatan yang sama, Menkeu bersama dengan Satu Kahkonen juga membahas mengenai program-program International Bank for Reconstruction and Development (IBRD), termasuk kerja sama dalam Program Keluarga Harapan.\\n“Salah satu program kerja sama yang membantu meredam dampak-dampak negatif penyebaran virus Covid-19,” ungkapnya.\\nTerakhir, Satu juga menyampaikan salam perpisahannya karena akan ditugaskan di Afrika Selatan pada bulan mendatang.\\n”Thank you for the cooperation, warmth, and partnership, Satu! Have a good journey in your next assignment..!,” tukas Menkeu. (ig/feb/al)\n",
        "\n",
        "\n",
        "Tl;dr"
      ]
    },
    {
      "attachments": {},
      "cell_type": "markdown",
      "metadata": {
        "nteract": {
          "transient": {
            "deleting": false
          }
        }
      },
      "source": [
        "# Exercises for several use cases  \n",
        "1. Summarize Text  \n",
        "2. Classify Text  \n",
        "3. Generate New Product Names\n",
        "4. Embeddings\n",
        "5. Fine tune a classifier"
      ]
    },
    {
      "cell_type": "code",
      "execution_count": 11,
      "metadata": {
        "gather": {
          "logged": 1674495198534
        },
        "jupyter": {
          "outputs_hidden": false,
          "source_hidden": false
        },
        "nteract": {
          "transient": {
            "deleting": false
          }
        }
      },
      "outputs": [],
      "source": [
        "prompt = \"Menkeu Terima Kunjungan Satu Kahkonen, World Bank Country Director for Indonesia and Timor-Leste\\nJakarta, 20/3/2024 Kemenkeu – Menteri Keuangan (Menkeu) Sri Mulyani Indrawati menerima kunjungan dari Country Director World Bank untuk Indonesia dan Timor Leste, Satu Kahkonen di Jakarta sore ini, Rabu (20/03). Sejak Februari 2020, Satu menjadi Country Director dan mengawasi program World Bank di kedua negara tersebut.\\nPada pertemuan tersebut, Menteri Sri Mulyani bersama dengan Satu Kahkonen berkesempatan membahas banyak hal, utamanya mengenai dukungan World Bank untuk Indonesia.\\n”Kami berbincang mengenai beragam kerja sama dan program World Bank di Indonesia. Diantaranya, isu-isu terkait transisi energi - mulai mekanisme transisi energi hingga Just Energy Transition Partnership - dan perubahan iklim,” ungkap Menkeu dikutip dari laman instagram resmi @smindrawati.\\nPada kesempatan yang sama, Menkeu bersama dengan Satu Kahkonen juga membahas mengenai program-program International Bank for Reconstruction and Development (IBRD), termasuk kerja sama dalam Program Keluarga Harapan.\\n“Salah satu program kerja sama yang membantu meredam dampak-dampak negatif penyebaran virus Covid-19,” ungkapnya.\\nTerakhir, Satu juga menyampaikan salam perpisahannya karena akan ditugaskan di Afrika Selatan pada bulan mendatang.\\n”Thank you for the cooperation, warmth, and partnership, Satu! Have a good journey in your next assignment..!,” tukas Menkeu. (ig/feb/al)\\n\\nTl;dr\"\n"
      ]
    },
    {
      "cell_type": "code",
      "execution_count": 13,
      "metadata": {
        "gather": {
          "logged": 1674495201868
        },
        "jupyter": {
          "outputs_hidden": false,
          "source_hidden": false
        },
        "nteract": {
          "transient": {
            "deleting": false
          }
        }
      },
      "outputs": [
        {
          "name": "stdout",
          "output_type": "stream",
          "text": [
            "Menteri Keuangan Sri Mulyani Indrawati receives a visit from Satu Kahkonen, the World Bank Country Director for Indonesia and Timor-Leste. They discuss various cooperation programs and issues related to energy transition, climate change, and the International Bank for Reconstruction and Development. Satu also mentions that they will be assigned to South Africa in the coming month.\n"
          ]
        }
      ],
      "source": [
        "#Setting a few additional, typical parameters during API Call\n",
        "#gpt-3.5-turbo\n",
        "\n",
        "response = client.chat.completions.create(\n",
        "  model=model,\n",
        "  messages = [{\"role\":\"system\", \"content\":\"You are a helpful assistant.\"},\n",
        "               {\"role\":\"user\",\"content\":prompt},])\n",
        "\n",
        "print(response.choices[0].message.content)"
      ]
    },
    {
      "cell_type": "code",
      "execution_count": 31,
      "metadata": {},
      "outputs": [
        {
          "name": "stdout",
          "output_type": "stream",
          "text": [
            "Product names: AdaptEase, UniFit, OmniSteps, FlexFoot, UniversalStride.\n"
          ]
        }
      ],
      "source": [
        "#Setting a few additional, typical parameters during API Call\n",
        "#gpt-4\n",
        "\n",
        "response = client.chat.completions.create(\n",
        "  model=modelgpt4,\n",
        "  messages = [{\"role\":\"system\", \"content\":\"You are a helpful assistant.\"},\n",
        "               {\"role\":\"user\",\"content\":prompt},])\n",
        "\n",
        "print(response.choices[0].message.content)"
      ]
    },
    {
      "attachments": {},
      "cell_type": "markdown",
      "metadata": {
        "nteract": {
          "transient": {
            "deleting": false
          }
        }
      },
      "source": [
        "## Classify Text  \n",
        "#### Challenge  \n",
        "Classify items into categories provided at inference time. In the following example we provide both the categories and the text to classify in the prompt(*playground_reference). \n",
        "\n",
        "Customer Inquiry: Hello, one of the keys on my laptop keyboard broke recently and I'll need a replacement:\n",
        "\n",
        "Classified category:\n"
      ]
    },
    {
      "cell_type": "code",
      "execution_count": 15,
      "metadata": {
        "gather": {
          "logged": 1674499424645
        },
        "jupyter": {
          "outputs_hidden": false,
          "source_hidden": false
        },
        "nteract": {
          "transient": {
            "deleting": false
          }
        }
      },
      "outputs": [
        {
          "name": "stdout",
          "output_type": "stream",
          "text": [
            "Classify the following inquiry into one of the following: categories: [Pricing, Hardware Support, Software Support]\n",
            "\n",
            "inquiry: Hello, one of the keys on my laptop keyboard broke recently and I'll need a replacement:\n",
            "\n",
            "Classified category:\n"
          ]
        }
      ],
      "source": [
        "prompt = \"Classify the following inquiry into one of the following: categories: [Pricing, Hardware Support, Software Support]\\n\\ninquiry: Hello, one of the keys on my laptop keyboard broke recently and I'll need a replacement:\\n\\nClassified category:\"\n",
        "print(prompt)"
      ]
    },
    {
      "cell_type": "code",
      "execution_count": 16,
      "metadata": {
        "gather": {
          "logged": 1674499378518
        },
        "jupyter": {
          "outputs_hidden": false,
          "source_hidden": false
        },
        "nteract": {
          "transient": {
            "deleting": false
          }
        }
      },
      "outputs": [
        {
          "data": {
            "text/plain": [
              "'Hardware Support'"
            ]
          },
          "execution_count": 16,
          "metadata": {},
          "output_type": "execute_result"
        }
      ],
      "source": [
        "#Setting a few additional, typical parameters during API Call\n",
        "\n",
        "response = client.chat.completions.create(\n",
        "       model=model,\n",
        "  messages = [{\"role\":\"system\", \"content\":\"You are a helpful assistant.\"},\n",
        "               {\"role\":\"user\",\"content\":prompt},])\n",
        "\n",
        "response.choices[0].message.content"
      ]
    },
    {
      "attachments": {},
      "cell_type": "markdown",
      "metadata": {
        "nteract": {
          "transient": {
            "deleting": false
          }
        }
      },
      "source": [
        "## Generate New Product Names\n",
        "#### Challenge\n",
        "Create product names from examples words. Here we include in the prompt information about the product we are going to generate names for. We also provide a similar example to show the pattern we wish to receive. We have also set the temperature value high to increase randomness and more innovative responses.\n",
        "\n",
        "Product description: A home milkshake maker\n",
        "Seed words: fast, healthy, compact.\n",
        "Product names: HomeShaker, Fit Shaker, QuickShake, Shake Maker\n",
        "\n",
        "Product description: A pair of shoes that can fit any foot size.\n",
        "Seed words: adaptable, fit, omni-fit."
      ]
    },
    {
      "cell_type": "code",
      "execution_count": 17,
      "metadata": {
        "gather": {
          "logged": 1674257087279
        },
        "jupyter": {
          "outputs_hidden": false,
          "source_hidden": false
        },
        "nteract": {
          "transient": {
            "deleting": false
          }
        }
      },
      "outputs": [
        {
          "name": "stdout",
          "output_type": "stream",
          "text": [
            "Product description: A home milkshake maker\n",
            "Seed words: fast, healthy, compact.\n",
            "Product names: HomeShaker, Fit Shaker, QuickShake, Shake Maker\n",
            "\n",
            "Product description: A pair of shoes that can fit any foot size.\n",
            "Seed words: adaptable, fit, omni-fit.\n"
          ]
        }
      ],
      "source": [
        "prompt = \"Product description: A home milkshake maker\\nSeed words: fast, healthy, compact.\\nProduct names: HomeShaker, Fit Shaker, QuickShake, Shake Maker\\n\\nProduct description: A pair of shoes that can fit any foot size.\\nSeed words: adaptable, fit, omni-fit.\"\n",
        "\n",
        "print(prompt)"
      ]
    },
    {
      "cell_type": "code",
      "execution_count": 18,
      "metadata": {
        "jupyter": {
          "outputs_hidden": false,
          "source_hidden": false
        },
        "nteract": {
          "transient": {
            "deleting": false
          }
        }
      },
      "outputs": [
        {
          "data": {
            "text/plain": [
              "'Product names: FlexFit, PerfectFit, OmniShoe, AllFit'"
            ]
          },
          "execution_count": 18,
          "metadata": {},
          "output_type": "execute_result"
        }
      ],
      "source": [
        "#Setting a few additional, typical parameters during API Call\n",
        "response = client.chat.completions.create(\n",
        "       model=model,\n",
        "  messages = [{\"role\":\"system\", \"content\":\"You are a helpful assistant.\"},\n",
        "               {\"role\":\"user\",\"content\":prompt},]\n",
        ")\n",
        "\n",
        "response.choices[0].message.content"
      ]
    },
    {
      "attachments": {},
      "cell_type": "markdown",
      "metadata": {
        "nteract": {
          "transient": {
            "deleting": false
          }
        }
      },
      "source": [
        "## Embeddings!  \n",
        "This section will show how to retrieve embeddings, and find similarity between words, sentences, and documents"
      ]
    },
    {
      "attachments": {},
      "cell_type": "markdown",
      "metadata": {
        "nteract": {
          "transient": {
            "deleting": false
          }
        }
      },
      "source": [
        "model = 'text-embedding-ada-002'"
      ]
    },
    {
      "cell_type": "code",
      "execution_count": 32,
      "metadata": {
        "gather": {
          "logged": 1674829364153
        },
        "jupyter": {
          "outputs_hidden": false,
          "source_hidden": false
        },
        "nteract": {
          "transient": {
            "deleting": false
          }
        }
      },
      "outputs": [],
      "source": [
        "import numpy as np\n",
        "\n",
        "def cosine_similarity(query_embedding, embeddings, distance_metric='cosine'):\n",
        "    if distance_metric == 'cosine':\n",
        "        distances = np.dot(embeddings, query_embedding) / (np.linalg.norm(embeddings) * np.linalg.norm(query_embedding))\n",
        "        distances = 1 - distances  \n",
        "    else:\n",
        "        raise ValueError(\"Metrik (fungsi jarak) tidak didukung. Gunakan 'cosine'.\")\n",
        "\n",
        "    return distances"
      ]
    },
    {
      "cell_type": "code",
      "execution_count": 34,
      "metadata": {
        "gather": {
          "logged": 1674829424097
        },
        "jupyter": {
          "outputs_hidden": false,
          "source_hidden": false
        },
        "nteract": {
          "transient": {
            "deleting": false
          }
        }
      },
      "outputs": [
        {
          "name": "stdout",
          "output_type": "stream",
          "text": [
            "[0.023568056523799896, -0.015377561561763287, 0.017208820208907127, 0.006798236630856991, -0.013358158990740776, 0.030002551153302193, -0.012379814870655537, 0.001182949636131525, -0.011620971374213696, -0.015427732840180397, 0.010586184449493885, 0.01255541481077671, -0.005048505961894989, -0.011156884953379631, 0.0032047037966549397, -0.016343362629413605, 0.03471866995096207, -0.030178150162100792, 0.01818716526031494, 0.007557080592960119, -0.0018516415730118752, 0.01865125074982643, 0.0002939735713880509, 0.019265852868556976, -0.005659971386194229, 0.018061736598610878, 0.00353709002956748, -0.017773250117897987, 0.012580500915646553, 0.004966977518051863, 0.020482510328292847, -0.018613623455166817, 0.004139147698879242, 0.008529153652489185, -0.011827928945422173, -0.015791475772857666, -0.0019943166989833117, -0.0025054388679564, 0.007996081374585629, -0.009018325246870518, 0.019993338733911514, -0.012216757982969284, 0.003203136147931218, -0.021122196689248085, -0.0005154336686246097, 0.003298775525763631, -0.003838118864223361, 0.029350321739912033, -0.040036849677562714, 0.022363942116498947, 0.004634591285139322, -0.0018798629753291607, 0.008679667487740517, -0.0012981873005628586, -0.014725332148373127, -0.006842136848717928, -0.007619794923812151, -0.02256462723016739, 0.004004312213510275, -0.009996669366955757, 0.006478393450379372, 0.002151102526113391, -0.02444605901837349, 0.006396865006536245, -0.02201274037361145, -0.011921999976038933, -0.008723568171262741, -0.0050108777359128, 0.02070828154683113, 0.00028005882631987333, 0.009965311735868454, 0.014399217441678047, -0.004766291473060846, -0.005042234901338816, 0.015678590163588524, -0.008071338757872581, -0.02124762535095215, -0.009639197029173374, 0.01724644936621189, 0.010962470434606075, 0.015365018509328365, -0.04031279310584068, -0.033765412867069244, -0.0014918178785592318, 0.02444605901837349, 0.016907792538404465, 0.004816463217139244, 0.014060559682548046, -0.007224694360047579, -0.019541794434189796, 0.00138677132781595, 0.020733367651700974, 0.024232828989624977, 0.0003700147208292037, -0.007996081374585629, 0.010755512863397598, 0.00772640947252512, 0.007481823209673166, 0.003068300196900964, -0.04736188426613808, -0.014449388720095158, 0.03165820986032486, -0.005211563315242529, 0.004901127424091101, -0.04854091629385948, 0.009300540201365948, -0.006472121924161911, 2.3885351765784435e-05, 0.04563096910715103, -0.021874768659472466, -0.016619306057691574, 0.014499559998512268, -0.016255563125014305, -0.03752827271819115, 0.006817051209509373, 0.0007035767193883657, 0.024132486432790756, 0.018287507817149162, 0.003069868078455329, -0.023078884929418564, 0.018049193546175957, -0.011646056547760963, 0.004314748104661703, -0.014650074765086174, 0.0045624696649611, 0.01546536199748516, -0.006704165134578943, -0.026917004957795143, -0.01985536701977253, -0.0011609996436163783, -0.0160172488540411, 0.00484468461945653, 0.007243508938699961, -0.01152689941227436, -0.02040725387632847, 0.004756884183734655, -0.011276042088866234, -0.0020178346894681454, -0.010473298840224743, -0.030403923243284225, 0.00016403725021518767, 0.0201313104480505, -0.024935230612754822, -0.020733367651700974, 0.01891465112566948, 0.024571487680077553, 0.00217932416126132, 0.01759764924645424, 0.0045279767364263535, -0.00022969134442973882, 0.014048016630113125, -0.01789867877960205, 0.012567957863211632, 0.0030338072683662176, -0.011219599284231663, -0.003668790217489004, -0.005421656649559736, 0.008272023871541023, -0.033489469438791275, 0.008284566923975945, 0.02576305903494358, 0.015201961621642113, 0.010692798532545567, -0.005462421104311943, 0.04334816709160805, 0.010278884321451187, 8.241058822022751e-05, 0.011445371434092522, -0.021874768659472466, 0.015703676268458366, 0.0110941706225276, 0.033389125019311905, -0.014675160869956017, 0.016167761757969856, -0.008021166548132896, 0.023103971034288406, 0.004600098356604576, 0.013609016314148903, -0.001014404813759029, -0.009175111539661884, -0.04879177361726761, 0.01959196664392948, -0.006400000769644976, 0.02623968943953514, -0.018387850373983383, 0.01180911436676979, 0.009344439953565598, 0.0005691328551620245, 0.018099365755915642, 0.021774426102638245, 0.012003528885543346, 0.00879882462322712, -0.019880453124642372, -0.0120787862688303, -0.6498211026191711, -0.014700246043503284, 0.0060832928866147995, 0.011921999976038933, 0.04550554230809212, 0.023179227486252785, 0.021021854132413864, 0.03665027394890785, -0.009946498088538647, -0.027418719604611397, -0.005691328551620245, 0.021385597065091133, 0.008453896269202232, -0.001576482318341732, -0.011445371434092522, 0.0056536998599767685, -0.002456835238263011, -0.0189271941781044, -0.0022389027290046215, -0.00036903482396155596, 0.0009712886530905962, 0.03459324315190315, -0.015954533591866493, -0.012260657735168934, 0.020068595185875893, 0.0013899070909246802, -0.0071431659162044525, -0.014160903170704842, -0.017384421080350876, 0.019165508449077606, 0.0020601667929440737, 0.032636553049087524, 0.000630279362667352, 0.03727741539478302, 0.05900167301297188, -0.013458502478897572, -0.02802077680826187, 0.022878199815750122, -0.011188242584466934, 0.04630828648805618, -0.015415189787745476, -0.01175267156213522, -0.002177756279706955, -0.04324782267212868, 0.02163645438849926, 0.00968936923891306, 0.029199806973338127, -0.037327587604522705, 0.008259481750428677, -0.008817639201879501, 0.008460167795419693, -0.000278294988675043, 0.0008544831653125584, -0.0021150419488549232, 0.014863303862512112, -0.017572565004229546, 0.030378837138414383, -0.021975113078951836, 0.007249779999256134, 0.009287997148931026, -0.004960705991834402, 0.015804018825292587, 0.0002675159485079348, -0.009269182570278645, -0.023028714582324028, 0.02942557819187641, -0.022526998072862625, -0.0209842249751091, 0.03446781262755394, -0.0337403267621994, 0.011370114050805569, -0.0033332682214677334, 0.007017737254500389, 0.00452170567587018, 0.006309064570814371, -0.0034147968981415033, 0.039209019392728806, -0.012655758298933506, -0.0006765311700291932, 0.008748653344810009, 0.0023847136180847883, -0.010843313299119473, -0.007149437442421913, -0.004656541161239147, 0.02182459831237793, -0.025073202326893806, -0.0008058795356191695, -0.00847270991653204, 0.027293290942907333, -0.01855090819299221, 0.03271181136369705, 0.0202191099524498, 0.01114434190094471, -0.007927095517516136, -0.010523470118641853, -0.001530230394564569, -0.0025587459094822407, 0.01581656187772751, -0.0028440963942557573, -0.031206665560603142, -0.011727585457265377, -0.010855856351554394, 0.0077013238333165646, -0.002911514136940241, -0.0031074965372681618, -0.02491014450788498, -0.015415189787745476, -0.022313769906759262, 0.022878199815750122, -0.017108477652072906, 0.02408231422305107, -0.005857521202415228, -0.001760705723427236, 0.005362078081816435, 0.006374914664775133, -0.02266496978700161, 0.005779128521680832, 0.013884959742426872, 0.02172425575554371, -0.03062969446182251, -0.009331896901130676, 0.027569234371185303, 0.007738952059298754, -0.0028190105222165585, 0.01638099178671837, 0.025236258283257484, -0.03484410047531128, -0.012994416058063507, -0.017635278403759003, 0.0016901521012187004, -0.014374131336808205, 0.000957961892709136, 0.027795005589723587, -0.007970995269715786, -0.004835277330130339, -0.020068595185875893, 0.001534150098450482, 0.012649486772716045, 0.014963646419346333, -0.012304557487368584, -0.010285154916346073, 0.012210486456751823, -0.0032925039995461702, -0.010598727501928806, 0.01853836514055729, -0.04252033680677414, -0.03925919160246849, -0.014135817065834999, -0.02912455052137375, -0.01278118696063757, 0.0060049002058804035, 0.014762960374355316, -0.008083880878984928, -0.009708182886242867, -0.009432240389287472, 0.008892896585166454, 0.0006530132959596813, -0.008140324614942074, -0.01209132932126522, 0.01648133434355259, 0.029726607725024223, 0.011181971058249474, -0.025361688807606697, -0.002408231608569622, -0.011087899096310139, -0.03193415328860283, -5.663890624418855e-05, 0.006522293668240309, -0.0037377760745584965, -0.02699226140975952, -0.00979598332196474, -0.009658011607825756, 0.004556198604404926, 0.0021056346595287323, -0.02613934688270092, -0.01836276426911354, -0.008968153968453407, -0.015603332780301571, -0.007720137946307659, -0.0022389027290046215, 0.009281725622713566, -8.38314663269557e-05, 0.005346399266272783, -0.009476140141487122, 0.030980894342064857, -0.007017737254500389, 0.012599315494298935, 0.013659187592566013, -0.014311417005956173, 0.03118158131837845, -0.007406566292047501, 0.05087389051914215, 0.028070949018001556, 0.01339578814804554, -0.00588260730728507, -0.02434571459889412, 0.0032611468341201544, 0.014637531712651253, 0.0019472809508442879, 0.014110730960965157, 0.014499559998512268, 0.005321313627064228, 0.029074378311634064, -0.010429398156702518, 0.01278118696063757, -0.03318843990564346, -0.010661441832780838, -0.04415091127157211, 0.0052366494201123714, 0.012072514742612839, 0.0077138664200901985, -0.028823520988225937, -0.028698092326521873, -0.02353042922914028, -0.008830182254314423, 0.019052622839808464, -0.006553650833666325, 0.015101618133485317, -0.008071338757872581, 0.0022624207194894552, 0.029300149530172348, -0.011589613743126392, -0.0033928470220416784, -0.021523568779230118, -0.005405977834016085, -0.025311516597867012, 0.01994316652417183, 0.026164431124925613, 0.014474474824965, -0.031708382070064545, -0.027519062161445618, -0.005039099138230085, -0.026766490191221237, 0.01762273535132408, -0.026841746643185616, 0.012774915434420109, 0.013170015998184681, -0.040689077228307724, 0.03830593079328537, 0.02782009169459343, 0.018663793802261353, 0.02361822873353958, 0.010554826818406582, -0.0462581142783165, 0.012310829013586044, 0.0019378737779334188, 0.030278494581580162, -0.0012636943720281124, -0.013195102103054523, -0.015051446855068207, -0.01344595942646265, -0.0060707502998411655, -0.00043586481478996575, 0.004841548856347799, 0.03918393328785896, -0.006051935721188784, 0.03599804267287254, 0.001378932036459446, 0.030855465680360794, 0.00228123483248055, 0.012593043968081474, 0.014374131336808205, 0.006603822112083435, 0.007199608720839024, 0.011025184765458107, -0.01512670423835516, 0.008616953156888485, -0.007343851961195469, -0.03925919160246849, -0.010548555292189121, 0.001026163692586124, 0.006591279525309801, 0.02200019732117653, -0.021385597065091133, 0.0032705538906157017, -0.02201274037361145, -0.023492800071835518, 0.008748653344810009, 0.015239589847624302, -0.03662518784403801, 0.01554061844944954, -0.02960117906332016, 0.00782048050314188, 0.014461931772530079, -0.008635767735540867, -0.010084469802677631, -0.029751693829894066, -0.008090152405202389, -0.03399118408560753, 0.019629595801234245, 0.005634885281324387, -0.011771486140787601, -0.002464674413204193, 0.0015890251379460096, 0.00810896698385477, -0.045104168355464935, 0.022702598944306374, 0.009106125682592392, 0.008654582314193249, -0.011928271502256393, -0.026816660538315773, -0.025913573801517487, -0.007970995269715786, -0.02248937077820301, 0.010899756103754044, 0.012292015366256237, -0.013094758614897728, 0.013057130388915539, 0.003756590187549591, -0.003684468800202012, -0.025273887440562248, -0.013634102419018745, 0.019466537982225418, -0.007663695141673088, -0.028171291574835777, -0.0055784424766898155, 0.017371878027915955, 0.0009414993692189455, 0.008911711163818836, -0.015164332464337349, -0.01873905211687088, -0.020181480795145035, -0.016606763005256653, 0.00940715428441763, 0.055590011179447174, -0.014386674389243126, 0.0032768254168331623, -0.009244097396731377, 0.017760707065463066, -0.011156884953379631, -0.020030967891216278, 0.0013405195204541087, -0.011827928945422173, -0.008786282502114773, 0.0022059776820242405, 0.007839295081794262, -0.0072372374124825, -0.006835865322500467, -0.004176776390522718, 0.0057320925407111645, -0.017647821456193924, -0.03175855427980423, 0.0017246449133381248, -0.010830770246684551, -0.010993828065693378, -0.01797393523156643, 0.014913475140929222, 0.016255563125014305, 0.0028989713173359632, 0.01919059455394745, 0.03436747193336487, 0.02425791509449482, 0.024057229980826378, -0.019466537982225418, 0.0160172488540411, 0.009356983006000519, 0.0007388535887002945, 0.002292210003361106, -0.010191083885729313, 0.035922788083553314, -0.0032141110859811306, -0.013220187276601791, 0.016819991171360016, -0.029952378943562508, 0.030328664928674698, 0.03351455554366112, 0.014675160869956017, -0.018199708312749863, 0.0071431659162044525, -0.006528565194457769, 0.0032297896686941385, 0.03514513000845909, -0.016280649229884148, -0.0009901029989123344, 0.05734601244330406, -0.002358060097321868, -0.005932778585702181, 0.01555316150188446, 0.0012025479227304459, 0.003308182582259178, 0.011294856667518616, -0.007933367043733597, 0.011746400035917759, -0.013420873321592808, -0.015327390283346176, -0.030378837138414383, -0.0018296914640814066, -0.03888290375471115, -0.010862127877771854, -0.014311417005956173, 0.023292113095521927, -0.010617541149258614, -0.008441353216767311, 0.013094758614897728, 0.015026360750198364, -0.004807055927813053, -0.03416678309440613, -0.01835022307932377, 0.006124057341367006, -0.008855268359184265, -0.0015365019207820296, -0.01006565522402525, -0.0026308675296604633, 0.01344595942646265, -0.026741404086351395, -0.005098677705973387, 0.015063989907503128, 0.011207056231796741, 0.003903968958184123, 0.027318375185132027, 0.0160172488540411, -0.01564096100628376, 0.020946597680449486, -0.002350220689550042, 0.018801765516400337, 0.006130328867584467, 0.016744734719395638, -0.0027531604282557964, -0.013884959742426872, -0.01853836514055729, 0.03501969948410988, -0.015114161185920238, -0.012705929577350616, -0.0007121999515220523, 0.04309730976819992, -0.035646844655275345, -0.009319353848695755, -0.030027637258172035, 0.03384067118167877, -0.007707594893872738, 0.009959040209650993, 0.02537422999739647, 0.0002216560678789392, -0.001981773879379034, 0.01170877180993557, -0.010247526690363884, 0.008949339389801025, 0.000983047648333013, 0.0020836847834289074, 0.023405000567436218, 0.01349613070487976, -0.0016305734170600772, -0.010912299156188965, -0.022087998688220978, -0.024383343756198883, -0.03052935190498829, 0.019516710191965103, -0.006691622547805309, 0.0002886820584535599, -0.011213327758014202, 0.00012297894863877445, -0.00941969733685255, 0.009595297276973724, 0.03205958008766174, -0.02782009169459343, 0.0023376778699457645, 0.0010786870261654258, -0.010636355727910995, -0.012003528885543346, -0.01862616464495659, 0.014085645787417889, 0.006472121924161911, -0.008215581066906452, 0.015578247606754303, -0.021674083545804024, -0.008654582314193249, 0.027669576928019524, -0.004458991345018148, -0.03286232426762581, -0.017484763637185097, -0.008748653344810009, -0.013734444975852966, -0.019077708944678307, 0.010736698284745216, -0.01306967344135046, -0.014599903486669064, 0.005029691848903894, 0.02761940471827984, 1.659725785430055e-05, -0.025499658659100533, -0.025788145139813423, -0.022439198568463326, 0.016606763005256653, -0.0007698187837377191, 0.001933170249685645, -0.015578247606754303, 0.011332484893500805, -0.0064972080290317535, 0.0003896129783242941, -0.008867810480296612, -0.016443705186247826, -0.007199608720839024, -0.04186810925602913, -0.009959040209650993, 0.024107400327920914, 0.02922489307820797, 0.01575384847819805, -0.006155414506793022, 0.0007756982813589275, 0.003502597101032734, 0.018801765516400337, 0.0013295444659888744, -0.027418719604611397, -0.023442627862095833, -0.02736854739487171, -0.024044686928391457, -0.0027625677175819874, -0.016042333096265793, 0.027669576928019524, 0.0032141110859811306, 0.018425479531288147, 0.009476140141487122, -0.001792062888853252, -0.01675727777183056, 0.02539931610226631, -0.04056365042924881, 0.026114260777831078, -0.003094953717663884, 0.012116414494812489, 0.004612641409039497, -0.008353552781045437, 0.0021213132422417402, -0.022878199815750122, 0.027795005589723587, 0.013784617185592651, -0.01306967344135046, -0.003907104954123497, -0.009382068179547787, 0.0007851053960621357, 0.0018532093381509185, -0.009952769614756107, -0.021937483921647072, 0.005838707089424133, -0.015666047111153603, -0.00810269545763731, -0.03258638083934784, -0.01452464610338211, -0.012210486456751823, 0.002488192403689027, -0.0005969623452983797, -0.040613818913698196, 0.015201961621642113, -0.007764038164168596, -0.00941342581063509, -0.0074379234574735165, -0.006892308592796326, 0.019228223711252213, -0.0006890740478411317, 0.04199353605508804, 0.016368448734283447, -0.015377561561763287, -0.014499559998512268, 0.06110887601971626, 0.011514357291162014, -0.015766389667987823, -0.0063780504278838634, -0.004208133555948734, -0.015114161185920238, -0.03183380886912346, -0.00810269545763731, 0.03306301310658455, 0.006679079495370388, 0.01007192675024271, 0.025060659274458885, 0.008723568171262741, -0.0052930922247469425, -0.008209309540688992, -0.010993828065693378, 0.0023862814996391535, -0.00440568383783102, -0.018099365755915642, 0.018851937726140022, 0.0065850079990923405, -0.019817737862467766, -0.02267751283943653, 0.008309653028845787, -0.02182459831237793, 0.027318375185132027, -0.019065165892243385, -0.012486429885029793, -0.02464674413204193, 0.01049838401377201, -0.04645879939198494, 0.008021166548132896, -0.01076805591583252, 0.04149182140827179, 0.004161098040640354, -0.01827496476471424, 0.006528565194457769, 0.009106125682592392, -0.019529251381754875, 0.017848506569862366, -0.005258599296212196, 0.023919258266687393, 0.004537384025752544, 0.0037910831160843372, -0.0014518374809995294, 0.048465657979249954, 0.023267028853297234, 0.007130622863769531, -0.0069236657582223415, -0.017560021951794624, -0.016054876148700714, -0.01574130542576313, -0.002022538101300597, 0.02015639655292034, -0.005333856679499149, -0.014813132584095001, -0.012843901291489601, -0.01555316150188446, -0.024985400959849358, 0.002245174255222082, 0.020633025094866753, 0.004101519472897053, -0.002586967311799526, -0.01113807037472725, -0.013232730329036713, 0.009858697652816772, -0.00074081338243559, -0.0009783440036699176, -0.011288585141301155, 0.019040079787373543, -0.025135915726423264, 0.023367371410131454, -0.0024584028869867325, 0.01986791007220745, 0.010561098344624043, 0.008372367359697819, 0.030002551153302193, -0.015201961621642113, 0.014976189471781254, -0.0037283687852323055, -0.013671730645000935, -0.0114328283816576, -0.00761352339759469, -0.0043649193830788136, -0.026340031996369362, -0.004640862811356783, -0.005409113597124815, 0.008246938697993755, 0.0006926017231307924, -0.014951104298233986, -0.006967565510421991, 0.016606763005256653, -0.005336991976946592, -0.00800235290080309, 0.013659187592566013, -0.03298775479197502, -0.01967976614832878, 0.011633514426648617, 0.009971583262085915, -0.008842725306749344, -0.021573740988969803, 0.0008301813504658639, -0.013847331516444683, 0.029475750401616096, -0.021034397184848785, -0.004995198920369148, 0.008660852909088135, -0.025261344388127327, -0.02014385350048542, -0.0005483587156049907, -0.009281725622713566, -0.005556492600589991, 0.0050735920667648315, 0.03584752976894379, -0.018287507817149162, -0.004208133555948734, -0.006810779683291912, -0.0051519847474992275, -0.0100217554718256, -0.02052013948559761, -0.03128192201256752, 0.00047349341912195086, 0.008573053404688835, 0.02088388241827488, 0.019165508449077606, -0.0221005417406559, -0.009306811727583408, 9.367957682115957e-05, -0.05679412558674812, -0.0008325331727974117, 0.010636355727910995, 0.012423714622855186, -0.0024678101763129234, 0.015402647666633129, 0.0012919158907607198, 0.006262029055505991, 0.0008333170553669333, 0.01873905211687088, -0.00657873647287488, -0.0014228321379050612, -0.015967076644301414, 0.007425380405038595, 0.008221852593123913, 0.007161980029195547, -0.03155786544084549, -0.0033520825672894716, 0.013521216809749603, -0.02932523563504219, -0.00489485589787364, 0.004546791315078735, -0.028923863545060158, 0.0012339050881564617, 0.015051446855068207, -0.009106125682592392, 0.026264775544404984, 0.0006149926921352744, -0.004571876954287291, -0.03775404766201973, 0.0189271941781044, 0.004672219976782799, 0.022050369530916214, -0.03567193076014519, -0.004305340815335512, -0.01315747294574976, -0.005362078081816435, -0.009250367991626263, -0.02556237392127514, -0.0008231259998865426, -0.025436945259571075, -0.03281215578317642, -0.001956688007339835, -0.006033121608197689, -0.014775503426790237, 0.01452464610338211, 0.00010455660230945796, -0.008184224367141724, -0.010956198908388615, 0.008347281254827976, -0.006892308592796326, -0.010410584509372711, 0.009990397840738297, -0.005261735059320927, 0.032636553049087524, -0.027318375185132027, 0.006547379307448864, -0.04066399112343788, -0.02613934688270092, 0.030278494581580162, -0.006610093638300896, -0.0322100967168808, 0.034066442400217056, 0.01483821775764227, -0.02950083650648594, 0.014662617817521095, -0.008692210540175438, -0.006823322735726833, 0.005211563315242529, -0.02368094213306904, 0.004706712905317545, -0.030654780566692352, 0.0013436551671475172, -0.017723077908158302, 0.012342186644673347, -0.016355905681848526, 0.004386869724839926, -0.0023878493811935186, -0.03231043741106987, 0.00842253863811493, 0.22757788002490997, 0.010354140773415565, -0.0090371398255229, 0.010228712111711502, 0.015615875832736492, 0.030955808237195015, 0.020369624719023705, 0.012749829329550266, -0.000726310710888356, 0.010266341269016266, -0.05077354609966278, -0.0033583540935069323, 0.013784617185592651, 0.009626654908061028, -0.009118667803704739, -0.02942557819187641, -0.028422148898243904, -0.009451054036617279, -0.03090563789010048, -0.02389417216181755, 0.022740228101611137, -0.00074081338243559, 0.02060793898999691, 0.005572170950472355, 0.014612446539103985, -0.0026967176236212254, -0.006142871920019388, -0.012574229389429092, 0.025625089183449745, 0.017911221832036972, -0.0022216562647372484, -0.005318177863955498, 0.01076805591583252, -0.000954042247030884, 0.013621559366583824, -0.0035903973039239645, -0.005374620668590069, -0.010561098344624043, -0.003185889683663845, 0.010648898780345917, -0.01175267156213522, -0.012279472313821316, 0.008767467923462391, 0.006760608404874802, -0.018902108073234558, 0.02977677993476391, -0.002994610695168376, 0.009557669050991535, 0.012373543344438076, 0.02509828843176365, -0.032736897468566895, 0.001908084494061768, -0.006886037066578865, 0.00440568383783102, -0.008077609352767467, 0.017309164628386497, 0.016606763005256653, -0.0033834397327154875, 0.028522491455078125, -0.016744734719395638, -0.020469967275857925, 0.022263597697019577, -0.013935131020843983, 0.003847526153549552, -0.024370800703763962, 0.0035057328641414642, -0.03559667244553566, 0.003765997476875782, 0.006729251239448786, -0.0002469377941451967, 0.0008152867085300386, -0.01705830730497837, 0.0006463499157689512, 0.03128192201256752, -0.024747086688876152, -0.01920313760638237, 0.0395602211356163, -0.005487506743520498, 0.01761019229888916, 0.0091249393299222, -0.024960316717624664, 0.012774915434420109, -0.0077138664200901985, 0.0003927486832253635, -0.006459579337388277, -0.03389083966612816, 0.008936796337366104, 0.009476140141487122, 0.0029742287006229162, -0.021473396569490433, 0.02294091321527958, -0.014010388404130936, 0.016456248238682747, 0.018212251365184784, 0.020457424223423004, 0.02312905713915825, -0.019792651757597923, 0.03843136131763458, -0.01249897200614214, 0.0015404215082526207, -0.0114328283816576, -0.07510671764612198, 0.012693386524915695, 0.013458502478897572, -0.012097600847482681, 0.013659187592566013, -0.004835277330130339, 0.008416267111897469, 0.0221005417406559, -0.03599804267287254, -0.010573641397058964, -0.029852036386728287, 0.013696816749870777, -0.0042959339916706085, 3.902499156538397e-05, -0.0070867231115698814, 0.02069573849439621, -0.02322939969599247, -0.034618329256772995, 0.002166781108826399, 0.005766585469245911, -0.020382167771458626, -0.02136051096022129, 0.00472866278141737, 0.018789222463965416, 0.005098677705973387, -0.007682509254664183, -0.0053589423187077045, 0.016932876780629158, -0.04001176357269287, 0.017309164628386497, -0.026816660538315773, 0.006541107781231403, 0.00027731506270356476, -0.0007470848504453897, 0.013558845035731792, -0.021799512207508087, -0.022363942116498947, 0.0014439981896430254, 0.01676982082426548, 0.008573053404688835, 0.002348652807995677, 0.0075696236453950405, -0.0037785402964800596, 0.0035747187212109566, -0.01921568065881729, 0.00800862442702055, -0.00690485117956996, -0.005603528115898371, -0.01521450374275446, -0.010862127877771854, -0.004869770258665085, -0.024897601455450058, 0.010354140773415565, 0.036023128777742386, -0.01759764924645424, -0.02406977117061615, -0.019918080419301987, -0.00318432180210948, 0.015089075081050396, -0.021686626598238945, -0.006980108562856913, 0.016644392162561417, -0.019604509696364403, 0.010523470118641853, 0.011733856983482838, -0.1565350443124771, 0.01184047106653452, 0.02480980195105076, -0.013383245095610619, -0.0017748164245858788, 0.023555513471364975, 0.017396964132785797, -0.01344595942646265, -0.0003796178789343685, 0.008642039261758327, 0.04053856432437897, 0.004186183679848909, -0.024383343756198883, 0.009275454096496105, -0.014273788779973984, 0.020469967275857925, -0.003756590187549591, 0.011338756419718266, 0.02247682772576809, 0.00043429696233943105, -0.00016991671873256564, 0.001506712520495057, 0.0011743264039978385, -0.0034273399505764246, 0.033113181591033936, 0.011464185081422329, -0.02418265864253044, 0.011388927698135376, -0.014875846914947033, -0.002381577854976058, -0.014813132584095001, 0.025637630373239517, 0.010736698284745216, -0.0017983342986553907, 0.008836453780531883, -0.008209309540688992, -0.0034586971160024405, 0.0032047037966549397, 0.0058732000179588795, 0.017371878027915955, 0.01480058953166008, -0.004631455522030592, 0.015565704554319382, 0.010536013171076775, -0.005396571010351181, 0.02847232110798359, 0.010918570682406425, 0.005848114378750324, 0.005029691848903894, -0.003897697664797306, -0.018801765516400337, -0.017572565004229546, 0.004258305300027132, 0.023731114342808723, 0.008309653028845787, 0.012072514742612839, 0.00016795689589343965, 0.00876119639724493, 0.008460167795419693, -0.012473886832594872, 0.010899756103754044, -0.018676336854696274, -0.024195201694965363, 0.008290838450193405, -0.00876119639724493, -0.0034273399505764246, -0.0058732000179588795, 0.0018296914640814066, -0.01592944748699665, 0.0007541402010247111, -0.020344538614153862, -0.02586340345442295, 0.02641528844833374, -0.004854091443121433, -0.030479179695248604, -0.002953846473246813, 0.014562275260686874, -0.007688780780881643, -0.023191770538687706, 0.013571388088166714, -0.02173679694533348, 0.052680063992738724, -0.025712888687849045, -0.0002818226639647037, 0.02425791509449482, 0.010686527006328106, -0.009714454412460327, 0.006196178961545229, 0.011871828697621822, -0.006829593796283007, 0.022727685049176216, -0.03815541788935661, 0.02716786228120327, -0.024872515350580215, 0.006440764758735895, 0.01685762032866478, 0.017861049622297287, 0.0013797159772366285, 0.0031952967401593924, 0.019805194810032845, 0.008974425494670868, 0.0209842249751091, 0.002641842467710376, 0.0007466928800567985, 0.02079608291387558, 0.011244685389101505, 0.0034242041874676943, 0.016418619081377983, 0.02744380384683609, -8.853503823047504e-05, -0.0043837339617311954, 0.01591690443456173, -0.0024192065466195345, 0.005901421420276165, 0.011878100223839283, -0.012317100539803505, -0.004600098356604576, -0.028823520988225937, 0.007149437442421913, 0.0016838805750012398, 0.013709359802305698, 0.0035151399206370115, -0.026942089200019836, 0.0083911819383502, 0.007249779999256134, -0.003118471708148718, -0.07044076919555664, -0.0013279765844345093, 0.017309164628386497, 0.006622636690735817, -0.004951298702508211, 0.013709359802305698, 0.008729838766157627, 0.02764449082314968, -0.03090563789010048, 0.014725332148373127, -0.0004252817598171532, -0.012154043652117252, -0.020093681290745735, -0.008786282502114773, 0.03547124192118645, -0.007557080592960119, 0.011232142336666584, -0.014549732208251953, -0.0035559043753892183, 0.0034492898266762495, -0.0020429203286767006, -0.009996669366955757, 0.021009311079978943, -0.029726607725024223, 0.0014494856586679816, 0.004872906021773815, -0.025737974792718887, 0.042746108025312424, 0.023003628477454185, 0.00435864832252264, 0.023354828357696533, -0.02792043425142765, -0.004537384025752544, -0.017672907561063766, -0.009676826186478138, 0.0007043606601655483, -0.04485331103205681, -0.009099854156374931, 0.029626265168190002, -0.003634297288954258, 0.005888878367841244, -0.013834788464009762, 0.03213483840227127, -0.03680078685283661, -0.02613934688270092, -0.019140422344207764, -0.003258011071011424, -0.0025430673267692327, -0.01602979004383087, -0.01797393523156643, -0.036951303482055664, -0.002775110537186265, -0.001988045172765851, -0.005995492916554213, 0.03326369822025299, 0.010028026066720486, 0.011740128509700298, 0.031206665560603142, -0.0006992651615291834, -0.0027688390109688044, -0.013759531080722809, -0.0016305734170600772, -0.018488194793462753, 0.013960217125713825, 0.00019588439317885786, -0.0008356688776984811, -0.010084469802677631, -0.010184812359511852, 0.024772172793745995, 0.0025853996630758047, -0.010310241021215916, 0.003054189495742321, 0.009827340953052044, 0.006929936818778515, -0.03371524065732956, 0.0053024995140731335, -0.04450211301445961, -0.014988732524216175, -0.0024850566405802965, -0.04911788925528526, -0.013546301983296871, -0.021761883050203323, 0.021849684417247772, -0.030880551785230637, 0.006315336097031832, 0.01856345124542713, 0.016644392162561417, 0.004998334683477879, 0.016995592042803764, 0.028146205469965935, 0.013947674073278904, 0.003966683521866798, -0.016832534223794937, -0.012705929577350616, 0.01856345124542713, 0.019453994929790497, 0.010473298840224743, -0.00756335211917758, 0.012059971690177917, -0.0018641843926161528, 0.009476140141487122, -0.020294368267059326, -0.04919314384460449, 0.020106224343180656, 0.005888878367841244, -0.0043837339617311954, 0.005901421420276165, 0.009469868615269661, 0.00782675202935934, 0.0043649193830788136, 0.007425380405038595, -0.009827340953052044, 0.015114161185920238, 0.026716317981481552, 0.002100931014865637, -0.008980697020888329, -0.028346892446279526, -0.036575015634298325, -0.008014895021915436, 0.0002679079188965261, 0.02294091321527958, -0.0010692798532545567, -0.0018720236839726567, -0.0024035279639065266, -0.019453994929790497, 0.013634102419018745, -0.011689957231283188, -0.016644392162561417, -0.0072309658862650394, 0.006124057341367006, -0.006073886062949896, 0.010630084201693535, 0.01574130542576313, -0.01939128153026104, 0.02220088429749012, 0.02754414826631546, -0.003925919067114592, -0.024797258898615837, 0.02809603326022625, 0.016318276524543762, 0.02078353986144066, 0.025424402207136154, -0.054937779903411865, -0.01930348016321659, -0.018889565020799637, -0.028447235003113747, -0.021761883050203323, 0.03710181638598442, 0.0014322391944006085, -0.006929936818778515, 0.028497405350208282, -0.006136600393801928, 0.024872515350580215, 0.025737974792718887, 0.04317256808280945, -0.00011259187886025757, -0.006111514754593372, -0.0062338076531887054, 0.018513279035687447, 0.012944243848323822, 0.020959138870239258, -0.014298874884843826, 0.027293290942907333, 0.0008638903382234275, -0.014487017877399921, 0.005108084995299578, 0.012856444343924522, 0.0009062224999070168, 0.00657873647287488, 0.009275454096496105, 0.008090152405202389, -0.0419684499502182, -0.013659187592566013, -0.01994316652417183, 0.02764449082314968, -0.005167663563042879, 0.0189271941781044, -0.0011649192310869694, -0.006980108562856913, -0.012467615306377411, -0.031056152656674385, 0.021498482674360275, -0.005995492916554213, -0.0021918669808655977, -0.022978542372584343, -0.006854679901152849, 0.01865125074982643, 0.01910279504954815, 0.005772856995463371, 0.011018913239240646, 0.007782852277159691, 0.009382068179547787, 0.009846154600381851, 0.006221264600753784, -0.006434493698179722, 0.01957942359149456, 0.007682509254664183, 0.012141500599682331, 0.0038569332100450993, -0.01007192675024271, 0.021046940237283707, 0.03654992952942848, 0.016932876780629158, 0.008077609352767467, -0.001440862426534295, -0.019240766763687134, 0.027017347514629364, -0.0023721707984805107, -0.00772640947252512, -0.0310059804469347, -0.011062812991440296, -0.01184047106653452, -0.0021558061707764864, -0.003872611792758107, 0.003168643219396472, 0.02062048204243183, 0.006374914664775133, 0.020570309832692146, -0.0069236657582223415, 0.002019402338191867, -0.014286331832408905, 0.022426655516028404, 0.007193337194621563, -0.007293680217117071, 0.002003723755478859, -0.009902597405016422, 0.014687703922390938, 0.01600470580160618, 0.008648310787975788, 0.005590985529124737, 0.01881430856883526, -0.02361822873353958, -0.014436845667660236, 0.008673395961523056, -0.012605587020516396, -0.01113807037472725, -0.007845566608011723, 0.01675727777183056, 0.01315747294574976, 0.023379914462566376, -0.014913475140929222, 0.05769721418619156, 0.010285154916346073, -0.012041157111525536, 0.012028614990413189, -0.004289662465453148, 0.02257717028260231, 0.005082998890429735, 0.027594318613409996, 0.006704165134578943, -0.017108477652072906, 0.01418598834425211, -0.0072372374124825, -0.0005032827612012625, 0.0035496328491717577, 0.0005346399266272783, 0.020369624719023705, -0.014411760494112968, 0.0189271941781044, -0.024057229980826378, -0.005685057025402784, 0.02904929220676422, -0.005427928175777197, 0.024207742884755135, 0.002151102526113391, -0.009005782194435596, -0.024220285937190056, -0.019228223711252213, 0.0028519355691969395, 0.020256739109754562, -0.017748164013028145, 0.01049211248755455, 0.013571388088166714, -0.012116414494812489, -0.0076574236154556274, 0.0262146033346653, 0.008830182254314423, -0.012567957863211632, 0.014223617501556873, 0.02696717530488968, 0.020770996809005737, 0.007325037382543087, 0.025988832116127014, -0.02764449082314968, -0.01743459329009056, 0.01564096100628376, 0.011859285645186901, 0.008547967299818993, -0.013696816749870777, -0.002875453559681773]\n"
          ]
        }
      ],
      "source": [
        "text_1 = 'Pohon hijau berdiri di tepi sungai yang tenang.'\n",
        "emb_text_1 = client.embeddings.create(input=[text_1], model=modelembeddings).data[0].embedding\n",
        "print(emb_text_1)\n"
      ]
    },
    {
      "cell_type": "code",
      "execution_count": 35,
      "metadata": {},
      "outputs": [],
      "source": [
        "text2 = 'Ayahku membuat bagan pohon keluarga di tembok yang hijau'\n",
        "emb_text_2 = client.embeddings.create(input=[text2], model=modelembeddings).data[0].embedding"
      ]
    },
    {
      "cell_type": "code",
      "execution_count": 36,
      "metadata": {},
      "outputs": [
        {
          "name": "stdout",
          "output_type": "stream",
          "text": [
            "0.1137047439703619\n"
          ]
        }
      ],
      "source": [
        "print(cosine_similarity(emb_text_1, emb_text_2))"
      ]
    },
    {
      "cell_type": "code",
      "execution_count": 40,
      "metadata": {},
      "outputs": [],
      "source": [
        "text3 = 'Pohon dan tumbuhan hidup di sekitar sungai Nil.'\n",
        "emb_text_3 = client.embeddings.create(input=[text3], model=modelembeddings).data[0].embedding"
      ]
    },
    {
      "cell_type": "code",
      "execution_count": 41,
      "metadata": {},
      "outputs": [
        {
          "name": "stdout",
          "output_type": "stream",
          "text": [
            "0.09541124818987201\n"
          ]
        }
      ],
      "source": [
        "print(cosine_similarity(emb_text_1, emb_text_3))"
      ]
    },
    {
      "cell_type": "code",
      "execution_count": 39,
      "metadata": {
        "gather": {
          "logged": 1674829555255
        },
        "jupyter": {
          "outputs_hidden": false,
          "source_hidden": false
        },
        "nteract": {
          "transient": {
            "deleting": false
          }
        }
      },
      "outputs": [
        {
          "name": "stdout",
          "output_type": "stream",
          "text": [
            "0.08382373906311491\n",
            "0.1665570317722117\n",
            "0.21796415287146154\n"
          ]
        }
      ],
      "source": [
        "# compare several words\n",
        "automobile_embedding    = client.embeddings.create(input='automobile', model=modelembeddings).data[0].embedding\n",
        "vehicle_embedding       = client.embeddings.create(input='vehicle', model=modelembeddings).data[0].embedding\n",
        "dinosaur_embedding      = client.embeddings.create(input='dinosaur', model=modelembeddings).data[0].embedding\n",
        "stick_embedding         = client.embeddings.create(input='stick', model=modelembeddings).data[0].embedding\n",
        "\n",
        "print(cosine_similarity(automobile_embedding, vehicle_embedding))\n",
        "print(cosine_similarity(automobile_embedding, dinosaur_embedding))\n",
        "print(cosine_similarity(automobile_embedding, stick_embedding))"
      ]
    },
    {
      "attachments": {},
      "cell_type": "markdown",
      "metadata": {
        "nteract": {
          "transient": {
            "deleting": false
          }
        }
      },
      "source": [
        "## Comparing article from cnn daily news dataset\n",
        "source: https://huggingface.co/datasets/cnn_dailymail\n"
      ]
    },
    {
      "cell_type": "code",
      "execution_count": 42,
      "metadata": {
        "gather": {
          "logged": 1674831122093
        },
        "jupyter": {
          "outputs_hidden": false,
          "source_hidden": false
        },
        "nteract": {
          "transient": {
            "deleting": false
          }
        }
      },
      "outputs": [
        {
          "data": {
            "text/html": [
              "<div>\n",
              "<style scoped>\n",
              "    .dataframe tbody tr th:only-of-type {\n",
              "        vertical-align: middle;\n",
              "    }\n",
              "\n",
              "    .dataframe tbody tr th {\n",
              "        vertical-align: top;\n",
              "    }\n",
              "\n",
              "    .dataframe thead th {\n",
              "        text-align: right;\n",
              "    }\n",
              "</style>\n",
              "<table border=\"1\" class=\"dataframe\">\n",
              "  <thead>\n",
              "    <tr style=\"text-align: right;\">\n",
              "      <th></th>\n",
              "      <th>articles</th>\n",
              "      <th>highligths</th>\n",
              "    </tr>\n",
              "  </thead>\n",
              "  <tbody>\n",
              "    <tr>\n",
              "      <th>0</th>\n",
              "      <td>BREMEN, Germany -- Carlos Alberto, who scored ...</td>\n",
              "      <td>Werder Bremen pay a club record $10.7 million ...</td>\n",
              "    </tr>\n",
              "    <tr>\n",
              "      <th>1</th>\n",
              "      <td>(CNN) -- Football superstar, celebrity, fashio...</td>\n",
              "      <td>Beckham has agreed to a five-year contract wit...</td>\n",
              "    </tr>\n",
              "    <tr>\n",
              "      <th>2</th>\n",
              "      <td>LOS ANGELES, California (CNN) -- Youssif, the ...</td>\n",
              "      <td>Boy on meeting Spider-Man: \"It was my favorite...</td>\n",
              "    </tr>\n",
              "  </tbody>\n",
              "</table>\n",
              "</div>"
            ],
            "text/plain": [
              "                                            articles  \\\n",
              "0  BREMEN, Germany -- Carlos Alberto, who scored ...   \n",
              "1  (CNN) -- Football superstar, celebrity, fashio...   \n",
              "2  LOS ANGELES, California (CNN) -- Youssif, the ...   \n",
              "\n",
              "                                          highligths  \n",
              "0  Werder Bremen pay a club record $10.7 million ...  \n",
              "1  Beckham has agreed to a five-year contract wit...  \n",
              "2  Boy on meeting Spider-Man: \"It was my favorite...  "
            ]
          },
          "execution_count": 42,
          "metadata": {},
          "output_type": "execute_result"
        }
      ],
      "source": [
        "import pandas as pd\n",
        "cnn_daily_articles = ['BREMEN, Germany -- Carlos Alberto, who scored in FC Porto\\'s Champions League final victory against Monaco in 2004, has joined Bundesliga club Werder Bremen for a club record fee of 7.8 million euros ($10.7 million). Carlos Alberto enjoyed success at FC Porto under Jose Mourinho. \"I\\'m here to win titles with Werder,\" the 22-year-old said after his first training session with his new club. \"I like Bremen and would only have wanted to come here.\" Carlos Alberto started his career with Fluminense, and helped them to lift the Campeonato Carioca in 2002. In January 2004 he moved on to FC Porto, who were coached by José Mourinho, and the club won the Portuguese title as well as the Champions League. Early in 2005, he moved to Corinthians, where he impressed as they won the Brasileirão,but in 2006 Corinthians had a poor season and Carlos Alberto found himself at odds with manager, Emerson Leão. Their poor relationship came to a climax at a Copa Sul-Americana game against Club Atlético Lanús, and Carlos Alberto declared that he would not play for Corinthians again while Leão remained as manager. Since January this year he has been on loan with his first club Fluminense. Bundesliga champions VfB Stuttgart said on Sunday that they would sign a loan agreement with Real Zaragoza on Monday for Ewerthon, the third top Brazilian player to join the German league in three days. A VfB spokesman said Ewerthon, who played in the Bundesliga for Borussia Dortmund from 2001 to 2005, was expected to join the club for their pre-season training in Austria on Monday. On Friday, Ailton returned to Germany where he was the league\\'s top scorer in 2004, signing a one-year deal with Duisburg on a transfer from Red Star Belgrade. E-mail to a friend .',\n",
        "                        '(CNN) -- Football superstar, celebrity, fashion icon, multimillion-dollar heartthrob. Now, David Beckham is headed for the Hollywood Hills as he takes his game to U.S. Major League Soccer. CNN looks at how Bekham fulfilled his dream of playing for Manchester United, and his time playing for England. The world\\'s famous footballer has begun a five-year contract with the Los Angeles Galaxy team, and on Friday Beckham will meet the press and reveal his new shirt number. This week, we take an in depth look at the life and times of Beckham, as CNN\\'s very own \"Becks,\" Becky Anderson, sets out to examine what makes the man tick -- as footballer, fashion icon and global phenomenon. It\\'s a long way from the streets of east London to the Hollywood Hills and Becky charts Beckham\\'s incredible rise to football stardom, a journey that has seen his skills grace the greatest stages in world soccer. She goes in pursuit of the current hottest property on the sports/celebrity circuit in the U.S. and along the way explores exactly what\\'s behind the man with the golden boot. CNN will look back at the life of Beckham, the wonderfully talented youngster who fulfilled his dream of playing for Manchester United, his marriage to pop star Victoria, and the trials and tribulations of playing for England. We\\'ll look at the highs (scoring against Greece), the lows (being sent off during the World Cup), the Man. U departure for the Galacticos of Madrid -- and now the Home Depot stadium in L.A. We\\'ll ask how Beckham and his family will adapt to life in Los Angeles -- the people, the places to see and be seen and the celebrity endorsement. Beckham is no stranger to exposure. He has teamed with Reggie Bush in an Adidas commercial, is the face of Motorola, is the face on a PlayStation game and doesn\\'t need fashion tips as he has his own international clothing line. But what does the star couple need to do to become an accepted part of Tinseltown\\'s glitterati? The road to major league football in the U.S.A. is a well-worn route for some of the world\\'s greatest players. We talk to some of the former greats who came before him and examine what impact these overseas stars had on U.S. soccer and look at what is different now. We also get a rare glimpse inside the David Beckham academy in L.A, find out what drives the kids and who are their heroes. The perception that in the U.S.A. soccer is a \"game for girls\" after the teenage years is changing. More and more young kids are choosing the European game over the traditional U.S. sports. E-mail to a friend .',\n",
        "                        'LOS ANGELES, California (CNN) -- Youssif, the 5-year-old burned Iraqi boy, rounded the corner at Universal Studios when suddenly the little boy hero met his favorite superhero. Youssif has always been a huge Spider-Man fan. Meeting him was \"my favorite thing,\" he said. Spider-Man was right smack dab in front of him, riding a four-wheeler amid a convoy of other superheroes. The legendary climber of buildings and fighter of evil dismounted, walked over to Youssif and introduced himself. Spidey then gave the boy from a far-away land a gentle hug, embracing him in his iconic blue and red tights. He showed Youssif a few tricks, like how to shoot a web from his wrist. Only this time, no web was spun. \"All right Youssif!\" Spider-Man said after the boy mimicked his wrist movement. Other superheroes crowded around to get a closer look. Even the Green Goblin stopped his villainous ways to tell the boy hi. Youssif remained unfazed. He didn\\'t take a liking to Spider-Man\\'s nemesis. Spidey was just too cool. \"It was my favorite thing,\" the boy said later. \"I want to see him again.\" He then felt compelled to add: \"I know it\\'s not the real Spider-Man.\" This was the day of dreams when the boy\\'s nightmares were, at least temporarily, forgotten. He met SpongeBob, Lassie and a 3-year-old orangutan named Archie. The hairy, brownish-red primate took to the boy, grabbing his hand and holding it. Even when Youssif pulled away, Archie would inch his hand back toward the boy\\'s and then snatch it. See Youssif enjoy being a boy again » . The boy giggled inside a play area where sponge-like balls shot out of toy guns. It was a far different artillery than what he was used to seeing in central Baghdad, as recently as a week ago. He squealed with delight and raced around the room collecting as many balls as he could. He rode a tram through the back stages at Universal Studios. At one point, the car shook. Fire and smoke filled the air, debris cascaded down and a big rig skidded toward the vehicle. The boy and his family survived the pretend earthquake unscathed. \"Even I was scared,\" the dad said. \"Well, I wasn\\'t,\" Youssif replied. The father and mother grinned from ear to ear throughout the day. Youssif pushed his 14-month-old sister, Ayaa, in a stroller. \"Did you even need to ask us if we were interested in coming here?\" Youssif\\'s father said in amazement. \"Other than my wedding day, this is the happiest day of my life,\" he said. Just a day earlier, the mother and father talked about their journey out of Iraq and to the United States. They also discussed that day nine months ago when masked men grabbed their son outside the family home, doused him in gas and set him on fire. His mother heard her boy screaming from inside. The father sought help for his boy across Baghdad, but no one listened. He remembers his son\\'s two months of hospitalization. The doctors didn\\'t use anesthetics. He could hear his boy\\'s piercing screams from the other side of the hospital. Watch Youssif meet his doctor and play with his little sister » . The father knew that speaking to CNN would put his family\\'s lives in jeopardy. The possibility of being killed was better than seeing his son suffer, he said. \"Anything for Youssif,\" he said. \"We had to do it.\" They described a life of utter chaos in Baghdad. Neighbors had recently given birth to a baby girl. Shortly afterward, the father was kidnapped and killed. Then, there was the time when some girls wore tanktops and jeans. They were snatched off the street by gunmen. The stories can be even more gruesome. The couple said they had heard reports that a young girl was kidnapped and beheaded --and her killers sewed a dog\\'s head on the corpse and delivered it to her family\\'s doorstep. \"These are just some of the stories,\" said Youssif\\'s mother, Zainab. Under Saddam Hussein, there was more security and stability, they said. There was running water and electricity most of the time. But still life was tough under the dictator, like the time when Zainab\\'s uncle disappeared and was never heard from again after he read a \"religious book,\" she said. Sitting in the parking lot of a Target in suburban Los Angeles, Youssif\\'s father watched as husbands and wives, boyfriends and girlfriends, parents and their children, came and went. Some held hands. Others smiled and laughed. \"Iraq finished,\" he said in what few English words he knows. He elaborated in Arabic: His homeland won\\'t be enjoying such freedoms anytime soon. It\\'s just not possible. Too much violence. Too many killings. His two children have only seen war. But this week, the family has seen a much different side of America -- an outpouring of generosity and a peaceful nation at home. \"It\\'s been a dream,\" the father said. He used to do a lot of volunteer work back in Baghdad. \"Maybe that\\'s why I\\'m being helped now,\" the father said. At Universal Studios, he looked out across the valley below. The sun glistened off treetops and buildings. It was a picturesque sight fit for a Hollywood movie. \"Good America, good America,\" he said in English. E-mail to a friend . CNN\\'s Arwa Damon contributed to this report.'\n",
        "]\n",
        "\n",
        "cnn_daily_article_highlights = ['Werder Bremen pay a club record $10.7 million for Carlos Alberto .\\nThe Brazilian midfielder won the Champions League with FC Porto in 2004 .\\nSince January he has been on loan with his first club, Fluminense .',\n",
        "                                'Beckham has agreed to a five-year contract with Los Angeles Galaxy .\\nNew contract took effect July 1, 2007 .\\nFormer English captain to meet press, unveil new shirt number Friday .\\nCNN to look at Beckham as footballer, fashion icon and global phenomenon .',\n",
        "                                'Boy on meeting Spider-Man: \"It was my favorite thing\"\\nYoussif also met SpongeBob, Lassie and an orangutan at Universal Studios .\\nDad: \"Other than my wedding day, this is the happiest day of my life\"' \n",
        "]\n",
        "\n",
        "cnn_df = pd.DataFrame({\"articles\":cnn_daily_articles, \"highligths\":cnn_daily_article_highlights})\n",
        "\n",
        "cnn_df.head()                      "
      ]
    },
    {
      "cell_type": "code",
      "execution_count": 43,
      "metadata": {
        "gather": {
          "logged": 1674831294043
        },
        "jupyter": {
          "outputs_hidden": false,
          "source_hidden": false
        },
        "nteract": {
          "transient": {
            "deleting": false
          }
        }
      },
      "outputs": [
        {
          "name": "stdout",
          "output_type": "stream",
          "text": [
            "0.2378745657639586\n",
            "0.2896765175077112\n"
          ]
        }
      ],
      "source": [
        "article1_embedding    = client.embeddings.create(input=cnn_df.articles.iloc[0], model=modelembeddings).data[0].embedding\n",
        "article2_embedding    = client.embeddings.create(input=cnn_df.articles.iloc[1], model=modelembeddings).data[0].embedding\n",
        "article3_embedding    = client.embeddings.create(input=cnn_df.articles.iloc[2], model=modelembeddings).data[0].embedding\n",
        "\n",
        "print(cosine_similarity(article1_embedding, article2_embedding))\n",
        "print(cosine_similarity(article1_embedding, article3_embedding))"
      ]
    },
    {
      "attachments": {},
      "cell_type": "markdown",
      "metadata": {
        "nteract": {
          "transient": {
            "deleting": false
          }
        }
      },
      "source": [
        "# References  \n",
        "-Azure Reference Documentation  \n",
        "-Azure OpenAI GitHub Repo\n",
        "-cookbooks  \n",
        "-OpenAI website  \n",
        "\n",
        "1 - [Openai Cookbook](https://github.com/openai/openai-cookbook)  \n",
        "2 - [Azure Documentation - Azure Open AI Models](https://learn.microsoft.com/en-us/azure/cognitive-services/openai/concepts/models)  \n",
        "3 - [OpenAI Studio Examples](https://oai.azure.com/portal)  \n",
        "4 - [[PUBLIC] Best practices for fine-tuning GPT-3 to classify text](https://docs.google.com/document/d/1rqj7dkuvl7Byd5KQPUJRxc19BJt8wo0yHNwK84KfU3Q/edit#)"
      ]
    },
    {
      "attachments": {},
      "cell_type": "markdown",
      "metadata": {
        "nteract": {
          "transient": {
            "deleting": false
          }
        }
      },
      "source": [
        "# For More Help  \n",
        "[OpenAI Commercialization Team](AzureOpenAITeam@microsoft.com)  \n",
        "AI Specialized CSAs [aka.ms/airangers](aka.ms/airangers)"
      ]
    }
  ],
  "metadata": {
    "kernel_info": {
      "name": "python310-sdkv2"
    },
    "kernelspec": {
      "display_name": "base",
      "language": "python",
      "name": "python3"
    },
    "language_info": {
      "codemirror_mode": {
        "name": "ipython",
        "version": 3
      },
      "file_extension": ".py",
      "mimetype": "text/x-python",
      "name": "python",
      "nbconvert_exporter": "python",
      "pygments_lexer": "ipython3",
      "version": "3.12.0"
    },
    "microsoft": {
      "host": {
        "AzureML": {
          "notebookHasBeenCompleted": true
        }
      }
    },
    "nteract": {
      "version": "nteract-front-end@1.0.0"
    }
  },
  "nbformat": 4,
  "nbformat_minor": 2
}
