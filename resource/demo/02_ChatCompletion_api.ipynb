{
 "cells": [
  {
   "cell_type": "code",
   "execution_count": 1,
   "metadata": {},
   "outputs": [],
   "source": [
    "import re\n",
    "import requests\n",
    "import sys\n",
    "import os\n",
    "from openai import AzureOpenAI\n",
    "from dotenv import load_dotenv\n",
    "\n",
    "load_dotenv(\"../config/environment_variables.env\")\n",
    "\n",
    "client = AzureOpenAI(\n",
    "  azure_endpoint = os.environ.get(\"AZURE_OPENAI_ENDPOINT_TEXT\"), \n",
    "  api_key=os.environ.get(\"AZURE_OPENAI_KEY_TEXT\"),  \n",
    "  api_version=os.environ.get(\"AZURE_OPENAI_API_VERSION\")\n",
    ")"
   ]
  },
  {
   "cell_type": "code",
   "execution_count": 3,
   "metadata": {},
   "outputs": [
    {
     "data": {
      "text/plain": [
       "'The first president of the Republic of Indonesia is Sukarno.'"
      ]
     },
     "execution_count": 3,
     "metadata": {},
     "output_type": "execute_result"
    }
   ],
   "source": [
    "prompt = \"\"\"Answer the question as truthfully as possible, and if you're unsure of the answer, say \"Sorry, I don't know\".\n",
    "\n",
    "Q: Who is the first president republic of Indonesia?\n",
    "A:\"\"\"\n",
    "message_text = [{\"role\":\"system\",\"content\":prompt}]\n",
    "\n",
    "response = client.chat.completions.create(\n",
    "  model=os.environ.get(\"AZURE_OPENAI_CHAT_DEPLOYMENT\"), # model = \"deployment_name\"\n",
    "  messages = message_text,\n",
    ")\n",
    "\n",
    "response.choices[0].message.content"
   ]
  },
  {
   "cell_type": "code",
   "execution_count": 5,
   "metadata": {},
   "outputs": [
    {
     "name": "stdout",
     "output_type": "stream",
     "text": [
      "The first customer feedback is negative.\n",
      "The second customer feedback is positive.\n"
     ]
    }
   ],
   "source": [
    "prompt = \"\"\"Decide whether the following customer feedback is positive or negative.\n",
    "\n",
    "Q: I was disappointed with the quality of the product. It was very cheaply made and did not meet my expectations at all.\n",
    "Q: I was happy with this product, it is well made and great quality for the price.\n",
    "\"\"\"\n",
    "\n",
    "message_text = [{\"role\":\"system\",\"content\":prompt}]\n",
    "\n",
    "response = client.chat.completions.create(\n",
    "  model=os.environ.get(\"AZURE_OPENAI_CHAT_DEPLOYMENT\"), # model = \"deployment_name\"\n",
    "  messages = message_text,\n",
    ")\n",
    "\n",
    "print(response.choices[0].message.content)"
   ]
  },
  {
   "cell_type": "code",
   "execution_count": 6,
   "metadata": {},
   "outputs": [
    {
     "name": "stdout",
     "output_type": "stream",
     "text": [
      "- John Doe (name)\n",
      "- 35-year old (age)\n",
      "- 21 Main Street, New York, NY (address) \n",
      "- Microsft (employer) \n",
      "- Jane Doe (wife's name) \n",
      "- two children\n"
     ]
    }
   ],
   "source": [
    "prompt = \"\"\"List all PII data from following statement:\n",
    "John Doe is a 35-year old man and he lives at 21 Main Street, New York, NY. He is a software engineer and he works at Microsft. He has a wife named Jane Doe and they have two children\n",
    "\"\"\"\n",
    "\n",
    "message_text = [{\"role\":\"system\",\"content\":prompt}]\n",
    "\n",
    "response = client.chat.completions.create(\n",
    "  model=os.environ.get(\"AZURE_OPENAI_CHAT_DEPLOYMENT\"), # model = \"deployment_name\"\n",
    "  messages = message_text,\n",
    ")\n",
    "\n",
    "print(response.choices[0].message.content)"
   ]
  },
  {
   "cell_type": "code",
   "execution_count": null,
   "metadata": {},
   "outputs": [],
   "source": []
  }
 ],
 "metadata": {
  "kernelspec": {
   "display_name": "Python 3",
   "language": "python",
   "name": "python3"
  },
  "language_info": {
   "codemirror_mode": {
    "name": "ipython",
    "version": 3
   },
   "file_extension": ".py",
   "mimetype": "text/x-python",
   "name": "python",
   "nbconvert_exporter": "python",
   "pygments_lexer": "ipython3",
   "version": "3.12.0"
  },
  "orig_nbformat": 4
 },
 "nbformat": 4,
 "nbformat_minor": 2
}
